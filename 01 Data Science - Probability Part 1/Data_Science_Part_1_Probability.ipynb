{
  "nbformat": 4,
  "nbformat_minor": 0,
  "metadata": {
    "colab": {
      "provenance": []
    },
    "kernelspec": {
      "name": "python3",
      "display_name": "Python 3"
    },
    "language_info": {
      "name": "python"
    }
  },
  "cells": [
    {
      "cell_type": "code",
      "execution_count": 1,
      "metadata": {
        "id": "n8z-4Mj_BRJz"
      },
      "outputs": [],
      "source": [
        "import matplotlib.pyplot as plt\n",
        "import numpy as np"
      ]
    },
    {
      "cell_type": "markdown",
      "source": [
        "# 1. Probability\n",
        "It is the likelihood of an event occuring.\n",
        "\n",
        "\\begin{equation}\n",
        "P(A) = \\frac{perferred}{all} = \\frac{favorable}{sampleSpace}\n",
        "\\end{equation}\n",
        "\n",
        "Here,\n",
        "\n",
        "- P(A) = probability of event 'A' occuring.\n",
        "\n",
        "- Preferred/favorable outcome is the total number of desired outcome\n",
        "\n",
        "- all/sample space is the total number of all possible outcomes"
      ],
      "metadata": {
        "id": "gFaU9QG_BXO_"
      }
    },
    {
      "cell_type": "code",
      "source": [
        "def calculate_probability(favorable, sample_space):\n",
        "  return favorable/sample_space\n",
        "\n",
        "sample_space = 6 # total_number_of_outcome_in_roll_of_a_dice\n",
        "favorable = 2 # total_possible_outcomes_for_getting_a_number_divisible_by_three are 3 and 6\n",
        "probability = calculate_probability(favorable, sample_space)\n",
        "print(f'Probability of getting a number divisible by three is {probability}')"
      ],
      "metadata": {
        "colab": {
          "base_uri": "https://localhost:8080/"
        },
        "id": "_I82maDVBe3i",
        "outputId": "8e93aca3-83a1-4e41-8bd7-9519214959cf"
      },
      "execution_count": 2,
      "outputs": [
        {
          "output_type": "stream",
          "name": "stdout",
          "text": [
            "Probability of getting a number divisible by three is 0.3333333333333333\n"
          ]
        }
      ]
    },
    {
      "cell_type": "markdown",
      "source": [
        "## Dependent and independent events\n",
        "\n",
        "When two events depend on each other then they are known as dependent events. If one event does not affect the other, then are known asn independent events.\n",
        "\n",
        "As for example, if we roll a fair dice two times, the probabiity of the first roll producing an even number is independent of the second roll producing an odd number.\n",
        "\n",
        "On the other hand, if we shuffle a card and then pick two random cards, then the probability of the second card being a clubs is dependent on the first card that we pick. Because, the probability of first card being a club is 13/52. However, once we take the first card, we have 51 cards left. So, the probability of second card being clubs is x/51. Here, 'x' will be 13 if the first card is not a clubs and 12 if the first one is a clubs. These are therefore known as dependent events.\n",
        "\n",
        "**For independent events**\n",
        "\n",
        "\\begin{equation}\n",
        "P(A and B ) = P(A) . P(B)\n",
        "\\end{equation}\n",
        "\n",
        "Here, 'A' and 'B' are independent events. For example, if we pick one card the probability of the card being an Ace and a clubs '$P(A and B)$' is equal to the product of the probability of the card being an Ace $P(A)$ and the probability of the card being a clubs $P(B)$. That is because, one event does not affect the other.\n",
        "\n",
        "\\begin{equation}\n",
        "P(A and B ) = P(A) . P(B) = \\frac{4}{52} . \\frac{13}{52} = 0.019\n",
        "\\end{equation}"
      ],
      "metadata": {
        "id": "i4mm1FHYFWYp"
      }
    },
    {
      "cell_type": "code",
      "source": [],
      "metadata": {
        "id": "nW27Oq5AH4BU"
      },
      "execution_count": 2,
      "outputs": []
    },
    {
      "cell_type": "markdown",
      "source": [
        "Suppose, we want to calculate the probability of getting a head when we flip a coin. Theoretically, the probability is $\\frac{1}{2}$ or 0.5. However, in practice we need to perform this task multiple times to estimate a probability.\n",
        "\n",
        "## Trials\n",
        "To calculate, the above probability if we flip a coin multiple times, then each flip is known as a trial.\n",
        "\n",
        "## Experiment\n",
        "When we perform multiple trials to estimate a value, it is known as an experiment.\n",
        "\n",
        "The probability that we obtain by performing an experiment is known as **Experimental Probability**. On the other hand, the probability that we obtain by using theory is known as **Theoretical (true) Probability**."
      ],
      "metadata": {
        "id": "IjQtKgeEIdbO"
      }
    },
    {
      "cell_type": "code",
      "source": [
        "experiment = []\n",
        "total_trials = 10000\n",
        "\n",
        "def flip_coin():\n",
        "  return np.random.choice(['heads', 'tails'])\n",
        "\n",
        "for _ in range(total_trials): # Experiment\n",
        "  experiment.append(flip_coin())    # Trial\n",
        "\n",
        "experiment = np.array(experiment)\n",
        "# Calculate probability of heads\n",
        "favorable = len(np.where(experiment == 'heads')[0])\n",
        "sample_space = len(experiment)\n",
        "print(f'Experimental probability of heads is {favorable}/{sample_space} = {calculate_probability(favorable, sample_space)}')\n",
        "print(f'Theoretical probability of heads is {calculate_probability(1, 2)}')\n",
        "experiments = []"
      ],
      "metadata": {
        "colab": {
          "base_uri": "https://localhost:8080/"
        },
        "id": "gnMEobHtJK27",
        "outputId": "a465f0cf-a3bc-47cb-82cb-f52a8c4af295"
      },
      "execution_count": 3,
      "outputs": [
        {
          "output_type": "stream",
          "name": "stdout",
          "text": [
            "Experimental probability of heads is 4983/10000 = 0.4983\n",
            "Theoretical probability of heads is 0.5\n"
          ]
        }
      ]
    },
    {
      "cell_type": "markdown",
      "source": [
        "Experimental probability is a **good approximation** of a true probability."
      ],
      "metadata": {
        "id": "EshZAw0OL-dp"
      }
    },
    {
      "cell_type": "code",
      "source": [],
      "metadata": {
        "id": "q_cD5_nCLv3Z"
      },
      "execution_count": 3,
      "outputs": []
    },
    {
      "cell_type": "markdown",
      "source": [
        "## Expected Values\n",
        "\n",
        "The expected value 'E(A)' of an event 'A' is the outcome that we expect to occur when we run an experiment.\n",
        "\n",
        "**Note: Expected value is calculating how many times an event occurs rather than what is the probability of an event occurring.**"
      ],
      "metadata": {
        "id": "jQz2U7SRNAe4"
      }
    },
    {
      "cell_type": "code",
      "source": [],
      "metadata": {
        "id": "DdJe7lCMOidF"
      },
      "execution_count": 3,
      "outputs": []
    },
    {
      "cell_type": "markdown",
      "source": [
        "## Categorical outcome\n",
        "\n",
        "A categorical outcome is the outcome which belongs to one of the categories e.g. getting a spade from a card or getting a head from a coin flip. Since a coin and a card has different categories of outcome e.g. head and tails or spade and clubs, we call these kind of outcomes as categorical outcomes.\n",
        "\n",
        "## Expected value for Categorical outcome\n",
        "\n",
        "If we want to calculate how many times we will get a spade if we draw a card 20 times.\n",
        "\n",
        "**After we draw a card and see the result we will put the card back in the deck before we pull the next card. We do this so that the twenty events remain independent of each other.**\n",
        "\n",
        "Here, we are trying to calculate how many times an event will occur rather than the probability of an event occuring. So, this value is known as expected value.\n",
        "\n",
        "Theoretically,\n",
        "\n",
        "\\begin{equation}\n",
        "E(A) = P(A).n = \\frac{favorable}{sample Space} . n\n",
        "\\end{equation}\n",
        "\n",
        "Here,\n",
        "P(A) = True probability of the event occuring\n",
        "n = Total number of trials\n",
        "\n",
        "Therefore, the expected value of getting a spade if we pick a card 20 times is,\n",
        "\n",
        "\\begin{equation}\n",
        "E(A) = P(A).n = \\frac{13}{52} . 20 = 5\n",
        "\\end{equation}\n",
        "\n",
        "Here, P(A) = $\\frac{13}{52}$ because we have 52 cards and 13 spades in a deck of cards. Therefore, we expect to get a spade 5 times if we pick cards twenty times from a deck of cards.\n",
        "\n",
        "However, this does not mean that we will get spades exactly 5 times if we pick cards 20 times. We can get it any number of times. As a result this value is known as **Expected** value and is just an approximation."
      ],
      "metadata": {
        "id": "VMq0wkoEQ5om"
      }
    },
    {
      "cell_type": "code",
      "source": [
        "def calculate_expected_value_for_categorical_outcome(probability_of_event, number_of_trials):\n",
        "  return probability_of_event * number_of_trials\n",
        "\n",
        "# Calculate the number of times we get a spade if we pick cards 20 times\n",
        "favorable_outcome = 13\n",
        "sample_space = 52\n",
        "number_of_trials = 20\n",
        "probability_of_spades = calculate_probability(favorable_outcome, sample_space)\n",
        "\n",
        "categorical_expected_value = calculate_expected_value_for_categorical_outcome(probability_of_spades, number_of_trials)\n",
        "print(f'The expected value of getting spades if we pick a card 20 times is {categorical_expected_value}')"
      ],
      "metadata": {
        "colab": {
          "base_uri": "https://localhost:8080/"
        },
        "id": "7vFPv9trQ41m",
        "outputId": "9c8d5028-e452-4bff-9d3d-ea6ce4e816cb"
      },
      "execution_count": 4,
      "outputs": [
        {
          "output_type": "stream",
          "name": "stdout",
          "text": [
            "The expected value of getting spades if we pick a card 20 times is 5.0\n"
          ]
        }
      ]
    },
    {
      "cell_type": "markdown",
      "source": [
        "## Numerical outcome\n",
        "When an outcome of a trial does not belong to a category or has just one category, then those kind of outcomes are known as numerical outcomes.\n",
        "\n",
        "As for example, a person is trying to hit a target with a bow and arrow. The target has three layers.\n",
        "\n",
        "- The outermost layer 'A' has 10 points.\n",
        "\n",
        "- The middle layer 'B' has 20 points.\n",
        "\n",
        "- The innermost layer 'C' has 100 points.\n",
        "\n",
        "Now, if we want to calculate the expected point that the person will score if he hits the target 1 time, then these kind of outcomes are known as numerical outcome as the outcome does not belong to any category. Rather it is a number (the point that a person scored after each trial).\n",
        "\n",
        "## Expected value for Numerical outcomes\n",
        "\n",
        "To calculate the expected value of a numerical outcome we take each element in the sample space and multiply by its probability. Then we sum all those values up to get the expected value. As for example,\n",
        "\n",
        "In the above scenario, we have the following elements in our sample space: A, B, and C.\n",
        "\n",
        "If the person is a novice, is hitting the target randomly, and if we can be sure that if he shoots an arrow it will always land inside the target - the expected value (point he scores) if we shoot an arrow 1 time is:\n",
        "\n",
        "\\begin{equation}\n",
        "E = P(A).A + P(B).B + P(C).C\n",
        "\\end{equation}\n",
        "\n",
        "Since the person is shooting randomly, the arrow has an equal probability in landing in any of the elements in the sample space. So, the probability P(A), P(B), and P(C) is $\\frac{1}{3}$. Therefore,\n",
        "\n",
        "\\begin{equation}\n",
        "E = P(A).A + P(B).B + P(C).C = \\frac{1}{3} . 10 + \\frac{1}{3} . 20 + \\frac{1}{3} . 100 = 43.33\n",
        "\\end{equation}\n",
        "\n",
        "So, the person is expected to score 43.33 point with a single shot. But we know that scoring this value is never possible as a person can score either 10 or 20 or 100 point with a single shot. But this helps us to predict future outcome based on past events.\n",
        "\n",
        "The formula for calculating expected value of a numerical outcome is as follows:\n",
        "\n",
        "\\begin{equation}\n",
        "E = \\sum_{i=1}^n P(i). i\n",
        "\\end{equation}\n",
        "\n",
        "Here,\n",
        "i = The value of an element in the sample space\n",
        "n = Total number of elements in the sample space"
      ],
      "metadata": {
        "id": "0_ynJtJxQ66u"
      }
    },
    {
      "cell_type": "code",
      "source": [
        "def calculate_expected_value_for_numerical_outcome(probability_of_each_element, value_of_each_element):\n",
        "  if len(probability_of_each_element) != len(value_of_each_element):\n",
        "    raise ValueError(\"The probability of each element and the value of each element must be an array of equal length\")\n",
        "\n",
        "  if np.sum(probability_of_each_element) != 1:\n",
        "    raise ValueError(\"The total probability of all elements must be 1\")\n",
        "\n",
        "  return np.sum(np.array(probability_of_each_element) * np.array(value_of_each_element))\n",
        "\n",
        "\n",
        "# Expected point for a single shot\n",
        "probability_of_each_element = [0.5, 0.4, 0.1] # P(A), P(B), and P(C)\n",
        "value_of_each_element = [10, 20, 100] # A, B, C\n",
        "\n",
        "numerical_expected_value = calculate_expected_value_for_numerical_outcome(probability_of_each_element, value_of_each_element)\n",
        "print(f'The expected value of a single shot of an arrow is {numerical_expected_value}')"
      ],
      "metadata": {
        "colab": {
          "base_uri": "https://localhost:8080/"
        },
        "id": "96vxRjyQQ-cH",
        "outputId": "fb762bfa-7238-470b-9d71-683fadac5b65"
      },
      "execution_count": 5,
      "outputs": [
        {
          "output_type": "stream",
          "name": "stdout",
          "text": [
            "The expected value of a single shot of an arrow is 23.0\n"
          ]
        }
      ]
    },
    {
      "cell_type": "markdown",
      "source": [
        "## Example\n",
        "\n",
        "We will role two fair dices. We want to calculate the **probability** of scoring a '8' if we roll both the dice one time. The score is sum of the value of the two dices.\n",
        "\n",
        "Here,\n",
        "- Each dice has 6 numbers. So, the sample space is $6 * 6 = 36$.\n",
        "\n",
        "To calculate the favorable outcome we need to know in how many ways can we score a '8'.  To calculate this value, let us arrange all the possible outcomes in a 6x6 matrix. The column of the matrix indicates the possible outcome of dice 'A' and the row indicates the possible outcome of dice 'B'. Each cell in the matrix is the sum of the value of the corresponding row and column i.e. it is the score of a single set of possible outcome.\n",
        "\n",
        "\\begin{bmatrix}\n",
        " A/B & 1 & 2 & 3 & 4 & 5 & 6 \\\\\n",
        " 1 & 2 & 3 & 4 & 5 & 6 & 7 \\\\\n",
        " 2 & 3 & 4 & 5 & 6 & 7 & [8] \\\\\n",
        " 3 & 4 & 5 & 6 & 7 & [8] & 9 \\\\\n",
        " 4 & 5 & 6 & 7 & [8] & 9 & 10 \\\\\n",
        " 5 & 6 & 7 & [8] & 9 & 10 & 11 \\\\\n",
        " 6 & 7 & [8] & 9 & 10 & 11 & 12 \\\\\n",
        " \\end{bmatrix}\n",
        "\n",
        " Here, we can see that there are 5 ways to score a '8'. So, the probability of scoring a '8' is\n",
        "\n",
        " \\begin{equation}\n",
        " P(8) = \\frac{5}{36} = 0.139\n",
        " \\end{equation}\n",
        "\n",
        "To calculate the **expected value** of a single roll of dice we can use the formula of 'Expected value for numerical data'. In this example, our sample space has 11 elements - each element is a possible score that we can get. So, the expected value is as follows:\n",
        "\n",
        "\\begin{equation}\n",
        "Probability = P(2).2 + P(3).3 + P(4).4 + ... + P(12).12\n",
        "\\end{equation}\n",
        "\n",
        "We need to calculate the probability of scoring each value:\n",
        "\n",
        "- $P(2) = \\frac{1}{36}$\n",
        "\n",
        "- $P(3) = \\frac{2}{36}$\n",
        "\n",
        "- $P(4) = \\frac{3}{36}$\n",
        "\n",
        "- $P(5) = \\frac{4}{36}$\n",
        "\n",
        "- $P(6) = \\frac{5}{36}$\n",
        "\n",
        "- $P(7) = \\frac{6}{36}$\n",
        "\n",
        "- $P(8) = \\frac{5}{36}$\n",
        "\n",
        "- $P(9) = \\frac{4}{36}$\n",
        "\n",
        "- $P(10) = \\frac{3}{36}$\n",
        "\n",
        "- $P(11) = \\frac{2}{36}$\n",
        "\n",
        "- $P(12) = \\frac{1}{36}$\n",
        "\n",
        "Therefore,\n",
        "\n",
        "\\begin{equation}\n",
        "Probability = \\frac{1}{36}.2 + \\frac{2}{36}.3 + \\frac{3}{36}.4 + ... + \\frac{1}{36}.12 = 6.999 = 7\n",
        "\\end{equation}"
      ],
      "metadata": {
        "id": "ma1GtldMYyI9"
      }
    },
    {
      "cell_type": "code",
      "source": [
        "# Create probability matrix for output of a single roll of two dice\n",
        "probability_matrix = []\n",
        "for dice_a_output in range(1, 7, 1):\n",
        "  row = []\n",
        "  for dice_b_output in range(1, 7, 1):\n",
        "    row.append(dice_a_output + dice_b_output)\n",
        "  probability_matrix.append(row)\n",
        "\n",
        "probability_matrix = np.array(probability_matrix)\n",
        "print(f\"Probability matrix\")\n",
        "print(probability_matrix)"
      ],
      "metadata": {
        "colab": {
          "base_uri": "https://localhost:8080/"
        },
        "id": "lfPmYcZpbzox",
        "outputId": "7a74f45f-c812-4ba2-c98c-94aa6ba9e92c"
      },
      "execution_count": 6,
      "outputs": [
        {
          "output_type": "stream",
          "name": "stdout",
          "text": [
            "Probability matrix\n",
            "[[ 2  3  4  5  6  7]\n",
            " [ 3  4  5  6  7  8]\n",
            " [ 4  5  6  7  8  9]\n",
            " [ 5  6  7  8  9 10]\n",
            " [ 6  7  8  9 10 11]\n",
            " [ 7  8  9 10 11 12]]\n"
          ]
        }
      ]
    },
    {
      "cell_type": "code",
      "source": [
        "# Calculate the probability of each score\n",
        "scores = np.unique(probability_matrix) # Total number of possible scores\n",
        "sample_space = probability_matrix.size # total number of ways the two dice can be organized in a single roll\n",
        "probability_of_scores = [] # Probability of getting each score\n",
        "\n",
        "for score in scores: # For each score\n",
        "  total_number_of_ways_score_can_occur = np.count_nonzero(probability_matrix == score) # calculate favorable outcomes\n",
        "  probability_of_the_score = calculate_probability(total_number_of_ways_score_can_occur, sample_space) # Calculate probability\n",
        "  probability_of_scores.append(probability_of_the_score)\n",
        "\n",
        "probability_of_scores = np.array(probability_of_scores)\n",
        "\n",
        "# Calculate expected value of a single roll\n",
        "expected_value = calculate_expected_value_for_numerical_outcome(probability_of_each_element=probability_of_scores, value_of_each_element=scores)\n",
        "print(f\"Expected value of a single roll is {expected_value}\")"
      ],
      "metadata": {
        "colab": {
          "base_uri": "https://localhost:8080/"
        },
        "id": "l3_QABW3fEv0",
        "outputId": "38cbd270-8b69-4483-dbbc-ca7533f4717e"
      },
      "execution_count": 7,
      "outputs": [
        {
          "output_type": "stream",
          "name": "stdout",
          "text": [
            "Expected value of a single roll is 6.999999999999998\n"
          ]
        }
      ]
    },
    {
      "cell_type": "markdown",
      "source": [
        "Here, we can see that the expected score of a single roll is '7'. Howeever, the probability of getting a '7' is $6/36$ or 0.1667 which  is around 16%. Therefore, it is very unlikely that we will score a 7 if we roll both the dice 1 time.\n",
        "\n",
        "Since we get a contradictory output for probability and expected value we cannot be sure what the score will be in a single roll of two dice.\n",
        "\n",
        "To increase the accuracy of our prediction we can create a **Probability Frequency Distribution**. This distribution contains the probability of getting each score in a single roll of the dice. It is **a collection of probabilities for each possible outcome.**"
      ],
      "metadata": {
        "id": "bqK8CQ2WhTYA"
      }
    },
    {
      "cell_type": "markdown",
      "source": [
        "## Probability Frequency Disttribution\n",
        "\n",
        "It is a collection of probabilities for each possible outcome. It is displayed with a graph or a table. In the above example we constructed a sample-space table that contains the frequency of each score.\n",
        "\n",
        "From that table we collect each score and the number of times each score features in the table. This is known as the **frequency of the outcome** or the number of times the score occurs in the sample space.\n",
        "\n",
        "For the above example, we can construct the following **frequency distribution table**:\n",
        "\n",
        "| Sum | Frequency |\n",
        "| --- | --- |\n",
        "|2 | 1 |\n",
        "|3 | 2 |\n",
        "|4 | 3 |\n",
        "|5 | 4 |\n",
        "|6 | 5 |\n",
        "|7 | 6 |\n",
        "|8 | 5 |\n",
        "|9 | 4 |\n",
        "|10 | 3 |\n",
        "|11 | 2 |\n",
        "|12 | 1 |\n",
        "\n",
        "We arrange the outcome (sum) in ascending order. By viewing this table (or graph) we can see how the frequency changes with the result."
      ],
      "metadata": {
        "id": "1P1aowKVYbNK"
      }
    },
    {
      "cell_type": "code",
      "source": [
        "# Create probability matrix for output of a single roll of two dice\n",
        "probability_matrix = []\n",
        "for dice_a_output in range(1, 7, 1):\n",
        "  row = []\n",
        "  for dice_b_output in range(1, 7, 1):\n",
        "    row.append(dice_a_output + dice_b_output)\n",
        "  probability_matrix.append(row)\n",
        "\n",
        "probability_matrix = np.array(probability_matrix)\n",
        "\n",
        "scores = np.unique(probability_matrix) # Total number of possible scores\n",
        "frequency = np.array([ np.count_nonzero(probability_matrix == score) for score in scores]) # Frequency of each outcome\n",
        "\n",
        "# Sort the values in ascending order of the value of the outcome\n",
        "sorted_by_outcome = np.argsort(scores)\n",
        "scores = scores[sorted_by_outcome]\n",
        "frequency = frequency[sorted_by_outcome]\n",
        "\n",
        "plt.figure()\n",
        "plt.title(\"Frequency Distribution (Sum of a single roll of two dice)\")\n",
        "plt.grid()\n",
        "plt.xlabel(\"Outcome\")\n",
        "plt.ylabel(\"Frequency\")\n",
        "plt.bar(scores, frequency)\n",
        "plt.show()"
      ],
      "metadata": {
        "colab": {
          "base_uri": "https://localhost:8080/",
          "height": 472
        },
        "id": "ZIzbdD-ZYK5J",
        "outputId": "2f4e49d6-b542-4711-f28b-ba568ca60eb9"
      },
      "execution_count": 8,
      "outputs": [
        {
          "output_type": "display_data",
          "data": {
            "text/plain": [
              "<Figure size 640x480 with 1 Axes>"
            ],
            "image/png": "[encoded data removed]"
          },
          "metadata": {}
        }
      ]
    },
    {
      "cell_type": "markdown",
      "source": [
        "To calculate the **Probability Frequency Distribution** of from the frequency distribution table, we simply divide the frequency of each outcome by the total number of outcomes.\n",
        "\n",
        "This provides us an estimate probability of each outcome and it is more intuitive."
      ],
      "metadata": {
        "id": "k36l_2TAmT4_"
      }
    },
    {
      "cell_type": "code",
      "source": [
        "# Create probability matrix for output of a single roll of two dice\n",
        "probability_matrix = []\n",
        "for dice_a_output in range(1, 7, 1):\n",
        "  row = []\n",
        "  for dice_b_output in range(1, 7, 1):\n",
        "    row.append(dice_a_output + dice_b_output)\n",
        "  probability_matrix.append(row)\n",
        "\n",
        "probability_matrix = np.array(probability_matrix)\n",
        "\n",
        "scores = np.unique(probability_matrix) # Total number of possible scores\n",
        "frequency = np.array([ np.count_nonzero(probability_matrix == score) for score in scores]) # Frequency of each outcome\n",
        "\n",
        "# Sort the values in ascending order of the value of the outcome\n",
        "sorted_by_outcome = np.argsort(scores)\n",
        "scores = scores[sorted_by_outcome]\n",
        "frequency = frequency[sorted_by_outcome]\n",
        "probability = frequency/scores.size\n",
        "\n",
        "plt.figure()\n",
        "plt.title(\"Probability Frequency Distribution (Sum of a single roll of two dice)\")\n",
        "plt.grid()\n",
        "plt.xlabel(\"Outcome, A\")\n",
        "plt.ylabel(\"Probability, P(A)\")\n",
        "plt.bar(scores, probability)\n",
        "plt.show()"
      ],
      "metadata": {
        "colab": {
          "base_uri": "https://localhost:8080/",
          "height": 472
        },
        "id": "IQy-v8-kl9tk",
        "outputId": "9afb2302-256e-420d-c5fa-be6c6c2f8105"
      },
      "execution_count": 9,
      "outputs": [
        {
          "output_type": "display_data",
          "data": {
            "text/plain": [
              "<Figure size 640x480 with 1 Axes>"
            ],
            "image/png": "[encoded data removed]"
          },
          "metadata": {}
        }
      ]
    },
    {
      "cell_type": "markdown",
      "source": [
        "From a Probability Frequency Distribution table we can get the interval of outcomes that has the highest probability of occuring. It is genrally the values adjacent to the expected value which is '7' in our case.\n",
        "\n",
        "Therfore, for the above example, the range of scores that has the highest probability of occuring are 6-8.\n",
        "\n",
        "**As we increase the range our accuracy of prediction increases but so does the number of possible outcomes in that range.**"
      ],
      "metadata": {
        "id": "NLvpRZNbm-U8"
      }
    },
    {
      "cell_type": "code",
      "source": [],
      "metadata": {
        "id": "uh8bnIGqmuaq"
      },
      "execution_count": 9,
      "outputs": []
    },
    {
      "cell_type": "markdown",
      "source": [
        "## Complements\n",
        "\n",
        "In probability, th complement of an event is everything that the event is not. In the above example, the complement of the event that we score a 7 is the set of all the possible scores that we can get except 7.\n",
        "\n",
        "For example, if a sample-space contains the events 'A', 'B', and 'C' then\n",
        "\n",
        "\\begin{equation}\n",
        "P(A) + P(B) + P(C) = 1\n",
        "\\end{equation}\n",
        "\n",
        "and the complement of 'A' is $A'$.\n",
        "\n",
        "\\begin{equation}\n",
        "P(A') = 1 - P(A) = P(B) + P(C)\n",
        "\\end{equation}\n",
        "\n",
        "The complement of the complement of an event is the event itself. That is $(A')' = A$.\n",
        "\n",
        "For example, the probability of getting a '1', '2', '4', '5', or '6' after rolling a dice is the same as the probability of 'not rolling a 3'. Here, the probability of rolling a '3' is the complement of the probability of rolling a '1', '2', '4', '5', or '6'. Here, the probability of rolling a '1', '2', '4', '5', or '6' is:\n",
        "\n",
        "\\begin{equation}\n",
        "P(A) = P(1) + P(2) + P(4) + P(5) + P(6) = \\frac{1}{6} + \\frac{1}{6} + \\frac{1}{6} + \\frac{1}{6} + \\frac{1}{6} = 0.8333\n",
        "\\end{equation}\n",
        "\n",
        "Similarly, the probability of not rolling a '3' is:\n",
        "\n",
        "\\begin{equation}\n",
        "P(3') = 1 - P(3) = 1 - \\frac{1}{6} = 0.8333 = P(A)\n",
        "\\end{equation}"
      ],
      "metadata": {
        "id": "8PKvNHazoaCv"
      }
    },
    {
      "cell_type": "code",
      "source": [],
      "metadata": {
        "id": "KipUYICcq6iD"
      },
      "execution_count": 9,
      "outputs": []
    },
    {
      "cell_type": "markdown",
      "source": [
        "## Combinatorics\n",
        "\n",
        "It deals with combinations of objects from a specific finite set.\n",
        "\n",
        "## Permutations (Variations without repetition)\n",
        "\n",
        "Number of possible ways we can arrange a set of elements. Suppose, after a race we have three winners 'A', 'B', and 'C'. Out of the three one of them ranked first, the other second, and the remaining person ranked third. We do not know who ranked what position. We want to find out how many ways can we arrange these three people to know all the possible combination of rankings. It can be one of the following:\n",
        "\n",
        "- 'A' is first, 'B' is second, 'C' is third\n",
        "- 'A' is first, 'C' is second, 'B' is third\n",
        "- 'B' is first, 'A' is second, 'C' is third\n",
        "- 'B' is first, 'C' is second, 'A' is third\n",
        "- 'C' is first, 'A' is second, 'B' is third\n",
        "- 'C' is first, 'B' is second, 'A' is third\n",
        "\n",
        "There are six possible ways to arrange the three people. If we consider based on positions - we have three positions first, second, and third. Let us start from the first position:\n",
        "\n",
        "| 1st | 2nd | 3rd |\n",
        "| --- | --- | --- |\n",
        "| 3 ways | - | - |\n",
        "\n",
        "There are three ways we can arrange the people in first position - either 'A' is first or 'B' is first, or 'C' is first. If we place any of them in the first position, we have two people remaining to arrange in the second position:\n",
        "\n",
        "| 1st | 2nd | 3rd |\n",
        "| --- | --- | --- |\n",
        "| A | 2 ways | - |\n",
        "\n",
        "If 'A' was first then either 'B' is second or 'C' is second. Similarly, if we place any of them in the second position we have one remaining way we can arrange the third position:\n",
        "\n",
        "| 1st | 2nd | 3rd |\n",
        "| --- | --- | --- |\n",
        "| A | B | C |\n",
        "\n",
        "So, the total number of ways we can arrange the three people in three positions are $3 * 2 * 1 = 6$.\n",
        "\n",
        "For, 'n' number of elements (A, B, or C) we can consider there are 'n' number of positions and we can arrange them in $n * (n-1) * (n-2) * ... * 1$ ways. Therefore, the permutation of 'n' elements:\n",
        "\n",
        "\\begin{equation}\n",
        "P_n = n! = n(n-1)(n-2)...1\n",
        "\\end{equation}"
      ],
      "metadata": {
        "id": "gLgYDqSZrHFB"
      }
    },
    {
      "cell_type": "code",
      "source": [
        "def get_permutation(number_of_elements):\n",
        "  if number_of_elements < 0:\n",
        "    raise ValueError(f\"Number of elements {number_of_elements} cannot be less than 0\")\n",
        "\n",
        "  product = 1\n",
        "  for i in range(number_of_elements, 0, -1):\n",
        "    product = product * i\n",
        "  return product\n",
        "\n",
        "number_of_elements = 4\n",
        "permutation = get_permutation(number_of_elements)\n",
        "print(f\"Number of ways {number_of_elements} can be arranged is {permutation}\")"
      ],
      "metadata": {
        "colab": {
          "base_uri": "https://localhost:8080/"
        },
        "id": "n78x6DjArIjI",
        "outputId": "860f9176-b37e-466c-8018-f893f372c692"
      },
      "execution_count": 10,
      "outputs": [
        {
          "output_type": "stream",
          "name": "stdout",
          "text": [
            "Number of ways 4 can be arranged is 24\n"
          ]
        }
      ]
    },
    {
      "cell_type": "markdown",
      "source": [
        "**Notes:**\n",
        "- Negative numbers do not have a factorial since the number of elements to organize cannot be negative.\n",
        "- zero factorial (0!) is equal 1 as there is only 1 way we can arrange zero number of elements.\n",
        "\n"
      ],
      "metadata": {
        "id": "mQCGp9Olv1sw"
      }
    },
    {
      "cell_type": "code",
      "source": [],
      "metadata": {
        "id": "Tr8l6WdbwHfP"
      },
      "execution_count": 10,
      "outputs": []
    },
    {
      "cell_type": "markdown",
      "source": [
        "**(n+k)!**\n",
        "\n",
        "From the above we equation we can get that\n",
        "\\begin{equation}\n",
        "n! = n * (n-1)(n-2)...1 = n*(n-1)!\n",
        "\\end{equation}\n",
        "\n",
        "Therefore, we consider a value (n+k) which is 'k' greater than 'n':\n",
        "\\begin{equation}\n",
        "(n+k)! = (n+k) * (n+k-1) * ... * n!\n",
        "\\end{equation}\n",
        "\n",
        "We can re-arrange the values so that instead of starting from (n+k) and decreasing to $n!$ we can start from $n!$ and keep increasing by one until we reach (n+k).\n",
        "\n",
        "\\begin{equation}\n",
        "(n+k)! = n! * (n+1) * (n+2) * ... * (n+k)\n",
        "\\end{equation}\n"
      ],
      "metadata": {
        "id": "c1LUg2Db0k-H"
      }
    },
    {
      "cell_type": "code",
      "source": [
        "def calculate_n_plus_k_factorial(n, k):\n",
        "  n_factorial = get_permutation(n)\n",
        "  if k == 1:\n",
        "    return n_factorial * (n+1)\n",
        "\n",
        "  for i in range(n+1, n+k+1, 1):\n",
        "    n_factorial = n_factorial * i\n",
        "\n",
        "  return n_factorial\n",
        "\n",
        "\n",
        "n = 5\n",
        "k = 2\n",
        "permutation = calculate_n_plus_k_factorial(n, k)\n",
        "print(f\"The permutation of ({n}+{k}) or {n+k} items is {get_permutation(n+k)}\")\n",
        "print(f\"The value of ({n}+{k})! is {permutation}\")\n"
      ],
      "metadata": {
        "colab": {
          "base_uri": "https://localhost:8080/"
        },
        "id": "LIKQ1-a00lR3",
        "outputId": "d903ad5c-34cf-4172-ceb2-fdf4c9aeaaa5"
      },
      "execution_count": 11,
      "outputs": [
        {
          "output_type": "stream",
          "name": "stdout",
          "text": [
            "The permutation of (5+2) or 7 items is 5040\n",
            "The value of (5+2)! is 5040\n"
          ]
        }
      ]
    },
    {
      "cell_type": "markdown",
      "source": [
        "**(n-k)!**\n",
        "\n",
        "Again, since we know that\n",
        "\\begin{equation}\n",
        "n! = n*(n-1)!\n",
        "\\end{equation}\n",
        "\n",
        "If we consider a value (n-k) which is 'k' less than 'n', in that case\n",
        "\\begin{equation}\n",
        "n! = n*(n-1)*(n-2)*...*(n-k)! \\\\\n",
        "(n-k)! = \\frac{n!}{n*(n-1)*(n-2)*...(n-k+1)}\n",
        "\\end{equation}\n",
        "\n",
        "We can re-arrange the values of the denominator so that we can start with (n+k-1) and keep increasing the value by one until we reach 'n'.\n",
        "\\begin{equation}\n",
        "(n-k)! = \\frac{n!}{(n-k+1)*(n-k+2)*(n-k+3)*...*n}\n",
        "\\end{equation}"
      ],
      "metadata": {
        "id": "NLAiKXmQ0iP9"
      }
    },
    {
      "cell_type": "code",
      "source": [
        "def calculate_n_minus_k_factorial(n, k):\n",
        "  if k > n:\n",
        "    raise ValueError(f\"k({k}) cannot be greater than n({n})\")\n",
        "\n",
        "  if k == n: # 0! factorial is 1\n",
        "    return 1\n",
        "\n",
        "  n_factorial = get_permutation(n) # n!\n",
        "  # Calculate denominator\n",
        "  product = 1\n",
        "  for i in range(n-k+1, n+1, 1):\n",
        "    product = product * i\n",
        "\n",
        "  return n_factorial/product\n",
        "\n",
        "\n",
        "n = 13\n",
        "k = 4\n",
        "permutation = calculate_n_minus_k_factorial(n, k)\n",
        "print(f\"The permutation of ({n}-{k}) or {n+k} items is {get_permutation(n-k)}\")\n",
        "print(f\"The value of ({n}-{k})! is {permutation}\")"
      ],
      "metadata": {
        "colab": {
          "base_uri": "https://localhost:8080/"
        },
        "id": "qFOOZoLU0hFl",
        "outputId": "beb6e1ad-1909-4426-961a-53450449f26f"
      },
      "execution_count": 12,
      "outputs": [
        {
          "output_type": "stream",
          "name": "stdout",
          "text": [
            "The permutation of (13-4) or 17 items is 362880\n",
            "The value of (13-4)! is 362880.0\n"
          ]
        }
      ]
    },
    {
      "cell_type": "markdown",
      "source": [
        "**n!/k!**\n",
        "\n",
        "If we have a value 'n' which is greater than 'k', in that case:\n",
        "\n",
        "\\begin{equation}\n",
        "\\frac{n!}{k!} = (k+1)*(k+2)*...n!\n",
        "\\end{equation}\n",
        "\n",
        "Suppose, 'n' is '7' and 'k' is '4'. In that case we can write the above equation as follows:\n",
        "\n",
        "\\begin{equation}\n",
        "\\frac{n!}{k!} = \\frac{7!}{4!} = \\frac{1*2*3*4*5*6*7}{1*2*3*4} \\\\\n",
        "\\frac{n!}{k!} = 5*6*7 = (k+1)*(k*2)*n\n",
        "\\end{equation}"
      ],
      "metadata": {
        "id": "JuTRHGbI4HCq"
      }
    },
    {
      "cell_type": "code",
      "source": [
        "def calculate_n_over_k_factorial(n, k):\n",
        "  if k > n:\n",
        "    raise ValueError(f\"k({k}) cannot be greater than n({n})\")\n",
        "\n",
        "  if k == n:\n",
        "    return 1\n",
        "\n",
        "  # Calculate denominator\n",
        "  result = 1\n",
        "  for i in range(k+1, n+1, 1):\n",
        "    result = result * i\n",
        "\n",
        "  return result\n",
        "\n",
        "\n",
        "n = 13\n",
        "k = 4\n",
        "permutation = calculate_n_over_k_factorial(n, k)\n",
        "print(f\"The value of {n}!/{k}! is { get_permutation(n) / get_permutation(k) }\")\n",
        "print(f\"The value of {n}!/{k}! is {permutation}\")"
      ],
      "metadata": {
        "colab": {
          "base_uri": "https://localhost:8080/"
        },
        "id": "dZR9zcVF5GYI",
        "outputId": "8884dd0d-1259-4083-a3ee-3efcf1de0275"
      },
      "execution_count": 13,
      "outputs": [
        {
          "output_type": "stream",
          "name": "stdout",
          "text": [
            "The value of 13!/4! is 259459200.0\n",
            "The value of 13!/4! is 259459200\n"
          ]
        }
      ]
    },
    {
      "cell_type": "markdown",
      "source": [
        "## Variations (with repetition)\n",
        "\n",
        "It is the total number of ways we can pick and arrange **some** elements of a given set. In case of permutation, we arranged all elements of the set. But in this case we will only arrange a subset of the total number of elements.\n",
        "\n",
        "Suppose we have a two-digit lock. We want to find out how many **combinations** of the lock are possible. Since we have two positions and 10 elements (0-9) we need to arrange these 9 elements in the two positions.\n",
        "\n",
        "This is known as **variation with repetition** since we can use the same digit in multiple position. As for example if we use the digit '4' in the first position of the lock, we can re-use it in the second position as well without any problem. The total number of ways we can arrange the 10 digits in two positions of the lock is $10 * 10 = 100$. The equation to calculate variation with repetition is as follows:\n",
        "\n",
        "\\begin{equation}\n",
        "\\bar{V}_p^n = n^p\n",
        "\\end{equation}\n",
        "\n",
        "Here,\n",
        "- n = Total number of elements\n",
        "- p = Number of positions to fill\n",
        "\n",
        "**The number of variations with repetition when picking p-many elements out of n elements is equal to 'n' to the power of 'p'.**"
      ],
      "metadata": {
        "id": "d9cAFAgi6GgX"
      }
    },
    {
      "cell_type": "code",
      "source": [
        "def get_variation_with_repetition(number_of_elements, position_to_fill):\n",
        "  if position_to_fill > number_of_elements:\n",
        "    raise ValueError(f\"Number of elements {number_of_elements} must be greater than positions to fill {position_to_fill}\")\n",
        "  return number_of_elements ** position_to_fill\n",
        "\n",
        "\n",
        "n = 10\n",
        "p = 2\n",
        "variation = get_variation_with_repetition(n, p)\n",
        "print(f\"Number of variations with repetition of the two-digit lock is {variation}\")\n"
      ],
      "metadata": {
        "colab": {
          "base_uri": "https://localhost:8080/"
        },
        "id": "0bw37dvG5h9D",
        "outputId": "dd617462-a55b-4dc2-b820-bbb9e25aef24"
      },
      "execution_count": 14,
      "outputs": [
        {
          "output_type": "stream",
          "name": "stdout",
          "text": [
            "Number of variations with repetition of the two-digit lock is 100\n"
          ]
        }
      ]
    },
    {
      "cell_type": "code",
      "source": [],
      "metadata": {
        "id": "QVEeX7qa80zp"
      },
      "execution_count": 14,
      "outputs": []
    },
    {
      "cell_type": "markdown",
      "source": [
        "## Variations (without repetition)\n",
        "\n",
        "Suppose we have 5 runners (A, B, C, D and E) and 4 (1, 2, 3 and 4) slots for a race. We want to decide how many combination of runners can we arrange for the 4 slots.\n",
        "\n",
        "| 1 | 2| 3 | 4 |\n",
        "| --- | --- | --- | --- |\n",
        "| - | - | - | - |\n",
        "\n",
        "\n",
        "For the first slot, since there are 5 runners we can arrange that slot in 5 different ways. Suppose we choose 'A' for the first slot.\n",
        "\n",
        "| 1 | 2| 3 | 4 |\n",
        "| --- | --- | --- | --- |\n",
        "| A | - | - | - |\n",
        "\n",
        "For the second slot, we now have 4 choices. So, we can arrange it in 4 different ways.\n",
        "\n",
        "| 1 | 2| 3 | 4 |\n",
        "| --- | --- | --- | --- |\n",
        "| A | B | - | - |\n",
        "\n",
        "In this way we can arrange the slots in the following way:\n",
        "\n",
        "- Slot 1: 5\n",
        "- Slot 2: 4\n",
        "- Slot 3: 3\n",
        "- Slot 4: 2\n",
        "\n",
        "So, the total number of ways that we can arrange it is $5*4*3*2 = 120$ ways. This process of arranging 'n' elements for 'p' different positions is calculated using variation without repetition. The formula is:\n",
        "\n",
        "\\begin{equation}\n",
        "V_p^n = \\frac{n!}{(n-p)!} = \\frac{n*(n-1)*(n-2)*...*(n-p)!}{(n-p)!} = n*(n-1)*(n-2)*...*(n-p+1)\n",
        "\\end{equation}"
      ],
      "metadata": {
        "id": "KmUt-AyII3Eh"
      }
    },
    {
      "cell_type": "code",
      "source": [
        "def get_variation_without_repetition(number_of_elements, position_to_fill):\n",
        "  if position_to_fill > number_of_elements:\n",
        "    raise ValueError(f\"Number of elements {number_of_elements} must be greater than positions to fill {position_to_fill}\")\n",
        "\n",
        "  n_factorial = get_permutation(number_of_elements)\n",
        "  n_minus_p_factorial = get_permutation(number_of_elements - position_to_fill)\n",
        "  return n_factorial / n_minus_p_factorial\n",
        "\n",
        "n = 5\n",
        "p = 4\n",
        "variation = get_variation_without_repetition(n, p)\n",
        "print(f\"Number of variation without repetition of the runners are {variation}\")\n"
      ],
      "metadata": {
        "colab": {
          "base_uri": "https://localhost:8080/"
        },
        "id": "GKLWFEEKKtvN",
        "outputId": "751317f6-d95a-40a3-897e-3dded6f1209d"
      },
      "execution_count": 15,
      "outputs": [
        {
          "output_type": "stream",
          "name": "stdout",
          "text": [
            "Number of variation without repetition of the runners are 120.0\n"
          ]
        }
      ]
    },
    {
      "cell_type": "markdown",
      "source": [
        "## Combination\n",
        "\n",
        "It is the number of ways we can pick certain elements of a set. Suppose, we are have 5 employees (A, B, C, D, E) in an organization. We are trying to pick three people for a conference. We want to find the different number of combinations that we have.\n",
        "\n",
        "In this case, we cannot use variations with repetition since the same person cannot occupy two different positions.\n",
        "\n",
        "If we use variations with repetition we will face a problem. In that case, the combination (A, B) and (B,A) will be counted as two different combinations. But in reality choosing the people A and B is the same as choosing B and A since they are the same combination.\n",
        "\n",
        "Therefore, to calculate the number of ways we can pick certain elements of a set such that the different order of the same set of element is counted as 1 variation, we need to use combination.\n",
        "\n",
        "In the above example (A,b) and (B,A) are different variations but not different combinations.\n",
        "\n",
        "For the above example, the number of variation without repetition is\n",
        "\\begin{equation}\n",
        "V_p^n = \\frac{n!}{(n-p)!} = \\frac{5!}{(5-3)!} = 60\n",
        "\\end{equation}\n",
        "\n",
        "The number of permutation for each combination is\n",
        "\\begin{equation}\n",
        "p! = 3! = 6\n",
        "\\end{equation}\n",
        "\n",
        "There are 60 different variations e.g. (A,B,C), (A,B,D), (A,B,E)... For each variation there are 6 permutations e.g. (A,B,C), (A,C,B), (B,A.C), (B,C,A), (C,A,B), (C,B,A). ALl these permutations of a single variation (A,B,C) should be considered as one combination. So, the total number of combinations available are\n",
        "\\begin{equation}\n",
        "C_p^n = \\frac{60}{6} = 10 = \\frac{V_p^n}{p!} \\\\\n",
        "C_p^n = \\frac{\\frac{n!}{(n-p)!}}{p!} = \\frac{n!}{p!(n-p)!}\n",
        "\\end{equation}"
      ],
      "metadata": {
        "id": "en3MFlOmMBqY"
      }
    },
    {
      "cell_type": "code",
      "source": [
        "def get_combination(number_of_elements, position_to_fill):\n",
        "  if position_to_fill > number_of_elements:\n",
        "    raise ValueError(f\"Number of elements {number_of_elements} must be greater than positions to fill {position_to_fill}\")\n",
        "\n",
        "  n_factorial = get_permutation(number_of_elements)\n",
        "  n_minus_p_factorial = get_permutation(number_of_elements - position_to_fill)\n",
        "  p_factorial = get_permutation(position_to_fill)\n",
        "\n",
        "  return n_factorial / (p_factorial * n_minus_p_factorial)\n",
        "\n",
        "n = 5\n",
        "p = 3\n",
        "combination = get_combination(n, p)\n",
        "variation_without_repetition = get_variation_without_repetition(n, p)\n",
        "print(f\"Number of combinations of the the employees are {combination}\")\n",
        "print(f\"Number of variations without repetition of the the employees are {variation_without_repetition}\")\n"
      ],
      "metadata": {
        "colab": {
          "base_uri": "https://localhost:8080/"
        },
        "id": "-jvHcXAML-KY",
        "outputId": "ea457459-8f68-43d4-ad6d-c100ddc6c2fd"
      },
      "execution_count": 16,
      "outputs": [
        {
          "output_type": "stream",
          "name": "stdout",
          "text": [
            "Number of combinations of the the employees are 10.0\n",
            "Number of variations without repetition of the the employees are 60.0\n"
          ]
        }
      ]
    },
    {
      "cell_type": "markdown",
      "source": [
        "## Sets\n",
        "\n",
        "**Sets** are a collection of elements. For example {1, 2, 3} is a set. **Subsets** are a collection of some elements picked out from a set. For example, {1, 2} is a subset of the set {1, 2, 3}. Empty set is a collection that does not have any elements in it e.g. {}. Empty sets are also a subset of its parent set.\n",
        "\n",
        "We can consider a set as **an event** with some elements (**outcomes**) in it. For example, the event 'A' can be a set $A = \\{1, 2, 3\\}$ and the event 'B' can be a set $B = \\{2, 4, 6\\}$. Here, the events 'A' and 'B' are **overlapping sets** since they have a common element '2'. However, the event $C = \\{7, 8, 9\\}$ is not overlapping with 'A' or 'B'. So, we can say that 'C' is **mutually exclusive** from 'A' and 'B'. The set $D= \\{1, 2\\}$ is a **subset** of 'A' since all the elements of 'D' are contained within the set 'A'."
      ],
      "metadata": {
        "id": "zMj-z8HTQdw9"
      }
    },
    {
      "cell_type": "code",
      "source": [
        "def is_subset(parent_set, child_set):\n",
        "  if len(child_set) >= len(parent_set):\n",
        "    return False\n",
        "\n",
        "  for element in child_set:\n",
        "    if not (element in parent_set):\n",
        "      return False\n",
        "  return True\n",
        "\n",
        "def is_overlapping_set(first_set, second_set):\n",
        "  if len(first_set) == 0 or len(second_set) == 0:\n",
        "    return True\n",
        "\n",
        "  for element in first_set:\n",
        "    if element in second_set:\n",
        "      return True\n",
        "  return False\n",
        "\n",
        "def is_mutually_exclusive(first_set, second_set):\n",
        "  return not is_overlapping_set(first_set, second_set)\n",
        "\n",
        "\n",
        "set_a = [1, 2, 3]\n",
        "set_b = [2, 4, 5]\n",
        "set_c = [7, 8, 9]\n",
        "set_d = []\n",
        "set_e = [2, 3]\n",
        "\n",
        "print(f\"A is a subset of B: {is_subset(set_a, set_b)}\")\n",
        "print(f\"B is a subset of A: {is_subset(set_b, set_a)}\")\n",
        "print(f\"D is a subset of A: {is_subset(set_d, set_a)}\")\n",
        "print(f\"D is a subset of D: {is_subset(set_d, set_d)}\")\n",
        "print(f\"E is a subset of A: {is_subset(set_e, set_a)}\")\n",
        "print(f\"A is a subset of E: {is_subset(set_a, set_e)}\")\n",
        "print(\"\\n\")\n",
        "\n",
        "print(f\"A is overlapping with B: {is_overlapping_set(set_a, set_b)}\")\n",
        "print(f\"A is overlapping with C: {is_overlapping_set(set_a, set_c)}\")\n",
        "print(f\"A is overlapping with D: {is_overlapping_set(set_a, set_d)}\")\n",
        "print(f\"A is overlapping with E: {is_overlapping_set(set_a, set_e)}\")\n",
        "print(f\"E is overlapping with A: {is_overlapping_set(set_e, set_a)}\")\n",
        "print(\"\\n\")\n",
        "\n",
        "print(f\"A is mutually exclusive of B: {is_mutually_exclusive(set_a, set_b)}\")\n",
        "print(f\"A is mutually exclusive of C: {is_mutually_exclusive(set_a, set_c)}\")\n",
        "print(f\"A is mutually exclusive of D: {is_mutually_exclusive(set_a, set_d)}\")\n",
        "print(f\"A is mutually exclusive of E: {is_mutually_exclusive(set_a, set_e)}\")\n",
        "print(f\"E is mutually exclusive of A: {is_mutually_exclusive(set_e, set_a)}\")"
      ],
      "metadata": {
        "colab": {
          "base_uri": "https://localhost:8080/"
        },
        "id": "MfGbbCBkUBtY",
        "outputId": "fff22b9b-9be9-4c7e-b722-99b1e10117f9"
      },
      "execution_count": 17,
      "outputs": [
        {
          "output_type": "stream",
          "name": "stdout",
          "text": [
            "A is a subset of B: False\n",
            "B is a subset of A: False\n",
            "D is a subset of A: False\n",
            "D is a subset of D: False\n",
            "E is a subset of A: False\n",
            "A is a subset of E: True\n",
            "\n",
            "\n",
            "A is overlapping with B: True\n",
            "A is overlapping with C: False\n",
            "A is overlapping with D: True\n",
            "A is overlapping with E: True\n",
            "E is overlapping with A: True\n",
            "\n",
            "\n",
            "A is mutually exclusive of B: False\n",
            "A is mutually exclusive of C: True\n",
            "A is mutually exclusive of D: False\n",
            "A is mutually exclusive of E: False\n",
            "E is mutually exclusive of A: False\n"
          ]
        }
      ]
    },
    {
      "cell_type": "markdown",
      "source": [
        "## Intersection between sets\n",
        "The intersection between two events/sets are the set of outcomes/elements that are common in both the events/sets. For example if we have an event $A = \\{1, 2, 3\\}$ and $B = \\{2, 3, 4\\}$, then the intersection between A and B:\n",
        "\n",
        "\\begin{equation}\n",
        "A \\cap B = \\{2, 3\\}\n",
        "\\end{equation}\n",
        "\n",
        "The intersection between two mutually exclusive set is an empty set. If the event $C = \\{8, 9\\}$ then\n",
        "\n",
        "\\begin{equation}\n",
        "A \\cap C = \\{\\}  = \\phi\n",
        "\\end{equation}"
      ],
      "metadata": {
        "id": "HcyqYdp_WQZG"
      }
    },
    {
      "cell_type": "code",
      "source": [
        "def get_intersection(set_a, set_b):\n",
        "  if len(set_a) == 0 or len(set_b) == 0:\n",
        "    return []\n",
        "\n",
        "  intersection = []\n",
        "  for outcome in set_a:\n",
        "    if outcome in set_b:\n",
        "      intersection.append(outcome)\n",
        "  return np.unique(intersection)\n",
        "\n",
        "set_a = [1, 2, 3]\n",
        "set_b = [2, 4, 5]\n",
        "set_c = [7, 8, 9]\n",
        "\n",
        "print(f\"Intersection between A and B is {get_intersection(set_a, set_b)}\")\n",
        "print(f\"Intersection between A and C is {get_intersection(set_a, set_c)}\")\n",
        "print(f\"Intersection between B and C is {get_intersection(set_b, set_c)}\")"
      ],
      "metadata": {
        "colab": {
          "base_uri": "https://localhost:8080/"
        },
        "id": "v3spLnViWwqS",
        "outputId": "a6520c2c-8767-4b20-e956-e56d58045513"
      },
      "execution_count": 18,
      "outputs": [
        {
          "output_type": "stream",
          "name": "stdout",
          "text": [
            "Intersection between A and B is [2]\n",
            "Intersection between A and C is []\n",
            "Intersection between B and C is []\n"
          ]
        }
      ]
    },
    {
      "cell_type": "markdown",
      "source": [
        "## Union of sets\n",
        "\n",
        "The union of two events is a set that contains all the outcomes that occur either in the first event or the second event. However, if an outcome exists in both the sets, then it is only counted once.\n",
        "\n",
        "For example, the union of citizens residing in all cities inside a country is a subset of all the citizens of the country itself. The total number of citizens in the country can include citizens living outside the country which makes the union a subset.\n",
        "\n",
        "For example if we have an event $A = \\{1, 2, 3\\}$ and $B = \\{2, 3, 4\\}$, the union of A and B $A \\cup B = \\{1, 2, 3, 4\\}$\n",
        "\n",
        "For two mutually exclusive sets $A = \\{1, 2, 3\\}$ and $B = \\{7, 8, 9\\}$ the union of A and B $A \\cup B = \\{1, 2, 3, 7, 8, 9\\} = A + B$.\n",
        "\n",
        "For two overlapping sets $A = \\{1, 2, 3\\}$ and $B = \\{2, 3, 4\\}$, the union is\n",
        "\n",
        "\\begin{equation}\n",
        "A \\cup B = A + B - (A \\cap B) = \\{1, 2, 3\\} + \\{2, 3 ,4\\} - \\{2, 3\\} = \\{1, 2, 3, 4\\}\n",
        "\\end{equation}"
      ],
      "metadata": {
        "id": "tM_UsBChYIDA"
      }
    },
    {
      "cell_type": "code",
      "source": [
        "def get_union(set_a, set_b):\n",
        "\n",
        "  union = []\n",
        "  for outcome in set_a:\n",
        "    union.append(outcome)\n",
        "\n",
        "  for outcome in set_b:\n",
        "    union.append(outcome)\n",
        "\n",
        "  return np.unique(union)\n",
        "\n",
        "set_a = [1, 2, 3]\n",
        "set_b = [2, 4, 5]\n",
        "set_c = [7, 8, 9]\n",
        "\n",
        "print(f\"Union between A and B is {get_union(set_a, set_b)}\")\n",
        "print(f\"Union between A and C is {get_union(set_a, set_c)}\")\n",
        "print(f\"Union between B and C is {get_union(set_b, set_c)}\")"
      ],
      "metadata": {
        "colab": {
          "base_uri": "https://localhost:8080/"
        },
        "id": "t5OML7fiZbVE",
        "outputId": "493e74e0-3232-46aa-cc7b-4fc37eadd01e"
      },
      "execution_count": 19,
      "outputs": [
        {
          "output_type": "stream",
          "name": "stdout",
          "text": [
            "Union between A and B is [1 2 3 4 5]\n",
            "Union between A and C is [1 2 3 7 8 9]\n",
            "Union between B and C is [2 4 5 7 8 9]\n"
          ]
        }
      ]
    },
    {
      "cell_type": "markdown",
      "source": [
        "## Complement of a set\n",
        "\n",
        "The complement of a subset is a set that contains all the outcomes of the parent set that is not present in the subset. For example, if we have a set $A = \\{1, 2, 3, 4, 5\\}$ and its subset $B = \\{2, 3, 4\\}$, then the complement of set 'B':\n",
        "\n",
        "\\begin{equation}\n",
        "B` = A - B = \\{1, 2, 3, 4, 5\\} - \\{2, 3, 4\\} = \\{1, 5\\}\n",
        "\\end{equation}"
      ],
      "metadata": {
        "id": "TAEq1Npdazm1"
      }
    },
    {
      "cell_type": "code",
      "source": [
        "def get_complement_of_set(parent_set, subset):\n",
        "  if not is_subset(parent_set, subset):\n",
        "    raise ValueError(\"Please provide a valid subset\")\n",
        "\n",
        "  result = []\n",
        "  for outcome in parent_set:\n",
        "    if not (outcome in subset):\n",
        "      result.append(outcome)\n",
        "  return np.unique(result)\n",
        "\n",
        "set_a = [1, 2, 3, 4, 5]\n",
        "set_b = [2, 4, 5]\n",
        "\n",
        "print(f\"Complement of B is {get_complement_of_set(set_a, set_b)}\")"
      ],
      "metadata": {
        "colab": {
          "base_uri": "https://localhost:8080/"
        },
        "id": "k6ZkWmPUafz1",
        "outputId": "02c5361f-55b0-46e8-9fa1-084679b1acca"
      },
      "execution_count": 20,
      "outputs": [
        {
          "output_type": "stream",
          "name": "stdout",
          "text": [
            "Complement of B is [1 3]\n"
          ]
        }
      ]
    },
    {
      "cell_type": "markdown",
      "source": [
        "# Dependent and independent events\n",
        "\n",
        "When the outcome of one event is dependent on the outcome of another event, then both events are mutually dependent. Otherwise they are mutually independent.\n",
        "\n",
        "For example, if we flip a coin two times and the first time it comes up 'heads' - the outcome of this event will not affect the outcome of the second flip. So, the probability of the first flip providing 'heads' is $\\frac{1}{2}$ and the probability of second flip providing 'heads' is also $\\frac{1}{2}$. So, the two events are independent.\n",
        "\n",
        "For two **independent events**, the probability of their intersection $P(A \\cap B) = P(A) . P (B)$\n",
        "\n",
        "On the other hand, if we draw a card two times (without putting the first one back to the deck) from a deck of cards and try to find the probability of getting a spade - For the first draw the probability of spade is $\\frac{13}{52} = 0.25$. If we find that in our first draw we get a spade, then the probability of spade occuring during the second draw is  $\\frac{12}{51} = 0.23$ since the number of spade has decreased by 1 and the total number of cards have decreased by one. On the other hand, if we do not get a spade in the first draw the probability of getting a spade in the second one is $\\frac{13}{51} = 0.255$ which is higher than the first scenarion. Since, the outcome of the first event is affecting the outcome of the second event, they are mutually dependent events.\n"
      ],
      "metadata": {
        "id": "p1wpkootcjGV"
      }
    },
    {
      "cell_type": "code",
      "source": [
        "def get_probability_of_intersection(event_a_number_of_favorable_outcomes, event_a_sample_space, event_b_number_of_favorable_outcomes, event_b_sample_space):\n",
        "  probability_of_a = calculate_probability(event_a_number_of_favorable_outcomes, event_a_sample_space)\n",
        "  probability_of_b = calculate_probability(event_b_number_of_favorable_outcomes, event_b_sample_space)\n",
        "\n",
        "  return probability_of_a * probability_of_b\n",
        "\n",
        "no_ways_head_can_be_obtained_first_flip = 1\n",
        "no_of_sample_space_of_first_flip = 2\n",
        "\n",
        "no_ways_head_can_be_obtained_second_flip = 1\n",
        "no_of_sample_space_of_second_flip = 2\n",
        "\n",
        "probability = get_probability_of_intersection(no_ways_head_can_be_obtained_first_flip, no_of_sample_space_of_first_flip, no_ways_head_can_be_obtained_second_flip, no_of_sample_space_of_second_flip)\n",
        "\n",
        "print(f\"The probability of intersection of two consecutive coin flips are {probability}\")"
      ],
      "metadata": {
        "colab": {
          "base_uri": "https://localhost:8080/"
        },
        "id": "_wEJK5nTfGf6",
        "outputId": "6b2aaa02-8a03-4002-9947-b49569b283b6"
      },
      "execution_count": 21,
      "outputs": [
        {
          "output_type": "stream",
          "name": "stdout",
          "text": [
            "The probability of intersection of two consecutive coin flips are 0.25\n"
          ]
        }
      ]
    },
    {
      "cell_type": "markdown",
      "source": [
        "## Conditional Probability\n",
        "\n",
        "Conditional probability is the likelihood of an event occcuring assuming that a different one has already happened. The probability of an event 'A' occuring given that an event 'B' has already occured is:\n",
        "\n",
        "\\begin{equation}\n",
        "P(A|B) = \\frac{P(A \\cap B)}{P(B)}\n",
        "\\end{equation}\n",
        "\n",
        "Here, P(B) must be greater than zero. Otherwise, if the probability of first event is zero, then the probability of second event given the first has occured will not be interpretable.\n",
        "\n",
        "If the two events are not dependent, the probability of P(A|B) will be the same as P(A)."
      ],
      "metadata": {
        "id": "FsqNlcbkcNmT"
      }
    },
    {
      "cell_type": "code",
      "source": [
        "def get_conditional_probability(first_event_number_of_favorable_outcomes, first_event_sample_space, second_event_number_of_favorable_outcomes, second_event_sample_space):\n",
        "  probability_of_a_intersect_b = get_probability_of_intersection(first_event_number_of_favorable_outcomes, first_event_sample_space, second_event_number_of_favorable_outcomes, second_event_sample_space)\n",
        "  probability_of_b = calculate_probability(first_event_number_of_favorable_outcomes, first_event_sample_space)\n",
        "\n",
        "  if probability_of_b == 0:\n",
        "    raise ValueError(\"The probability of first event cannot be zero\")\n",
        "\n",
        "  return probability_of_a_intersect_b / probability_of_b\n",
        "\n",
        "\n",
        "no_ways_to_get_spade_in_first_draw = 13\n",
        "no_sample_space_in_first_draw = 52\n",
        "no_ways_to_get_spade_in_second_draw_given_first_was_spade = no_ways_to_get_spade_in_first_draw - 1\n",
        "no_sample_space_in_second_draw = no_sample_space_in_first_draw - 1\n",
        "\n",
        "probability = get_conditional_probability(no_ways_to_get_spade_in_first_draw, no_sample_space_in_first_draw, no_ways_to_get_spade_in_second_draw_given_first_was_spade, no_sample_space_in_second_draw)\n",
        "\n",
        "print(f\"The probability of getting spade in second draw given the first one was spade is {probability}\")"
      ],
      "metadata": {
        "colab": {
          "base_uri": "https://localhost:8080/"
        },
        "id": "vvkSL0zqcDWc",
        "outputId": "bdf6f47f-0a39-43ae-f24b-44845c31c4ff"
      },
      "execution_count": 22,
      "outputs": [
        {
          "output_type": "stream",
          "name": "stdout",
          "text": [
            "The probability of getting spade in second draw given the first one was spade is 0.23529411764705882\n"
          ]
        }
      ]
    },
    {
      "cell_type": "markdown",
      "source": [
        "## Difference between $P(A|B)$ and $P(A \\cap B)$\n",
        "\n",
        "Suppose we have 100 employees. Out of them 45 employees have relevant work experience (A) and 60 have good CGPA (B).\n",
        "\n",
        "Out of the 45 employees who have relevant experience 22 of them have good CGPA.\n",
        "\n",
        "Out of the 60 employees who have good CGPA 22 of them have relevant work experience.\n",
        "\n",
        "| - | Good CGPA | Not Good CGPA | Total |\n",
        "| --- | --- | --- | -- |\n",
        "| Relevant Experience | 22 | 23 | 45 |\n",
        "| Not Relevant Experience | 38 | 17 | 55 |\n",
        "| Total | 60 | 40 | 100 |\n",
        "\n",
        "1. the probability of having a good CGPA and relevant work experience i.e. $P(A \\cap B) = \\frac{22}{100} = 0.22 = 22\\%$.\n",
        "\n",
        "2. The probability of having a good CGPA given that they have relevant work experience i.e. $P(B|A) = \\frac{22}{45} = 0.489 = 48.9\\%$\n",
        "\n",
        "3. The probability of having relevant work experience given that they have good CGPA i.e. $P(A|B) = \\frac{22}{60} = 0.367 = 36.7\\%$\n",
        "\n",
        "\n",
        "Here, we can see that $P(A \\cap B)$ is the number of employees who have both qualities out of all the employees. On the other hand, $P(A|B)$ is the number of employees who have both qualities out of the total number of employees who have good CGPA.\n",
        "\n",
        "So, $P(A \\cap B)$ is computed out of all the elements in the sample space. On the other hand $P(A \\cap B)$ is computed out of only a subset of the elements i.e. 'B' in the sample space."
      ],
      "metadata": {
        "id": "ljf0FGJ0juji"
      }
    },
    {
      "cell_type": "code",
      "source": [
        "def is_independent_event(\n",
        "    first_event_number_of_favorable_outcomes, first_event_sample_space,\n",
        "    second_event_number_of_favorable_outcomes, second_event_sample_space,\n",
        "    second_event_number_of_favorable_outcome_given_first_occured, second_event_sample_space_given_first_occured):\n",
        "  probability_of_second_event = calculate_probability(second_event_number_of_favorable_outcomes, second_event_sample_space)\n",
        "  probability_of_second_event_given_first_has_occured = get_conditional_probability(first_event_number_of_favorable_outcomes, first_event_sample_space,\n",
        "                                                                                    second_event_number_of_favorable_outcome_given_first_occured, second_event_sample_space_given_first_occured)\n",
        "\n",
        "  return probability_of_second_event == probability_of_second_event_given_first_has_occured\n",
        "\n",
        "\n",
        "# Coin flip\n",
        "no_ways_head_can_be_obtained_first_flip = 1\n",
        "no_of_sample_space_of_first_flip = 2\n",
        "\n",
        "no_ways_head_can_be_obtained_second_flip = 1\n",
        "no_of_sample_space_of_second_flip = 2\n",
        "\n",
        "no_ways_head_can_be_obtained_second_flip_given_first_was_head = 1\n",
        "no_of_sample_space_of_second_flip_given_first_was_head = 2\n",
        "\n",
        "is_indpendent = is_independent_event(\n",
        "    no_ways_head_can_be_obtained_first_flip, no_of_sample_space_of_first_flip,\n",
        "    no_ways_head_can_be_obtained_second_flip, no_of_sample_space_of_second_flip,\n",
        "    no_ways_head_can_be_obtained_second_flip_given_first_was_head, no_of_sample_space_of_second_flip_given_first_was_head\n",
        "    )\n",
        "\n",
        "print(f\"Two coin flips are mutually independent: {is_indpendent}\")\n",
        "\n",
        "# Card draw\n",
        "no_ways_to_get_spade_in_first_draw = 13\n",
        "no_sample_space_in_first_draw = 52\n",
        "\n",
        "no_ways_to_get_spade_in_second_draw = 13\n",
        "no_sample_space_in_second_draw = 51\n",
        "\n",
        "\n",
        "no_ways_to_get_spade_in_second_draw_given_first_was_spade = no_ways_to_get_spade_in_first_draw - 1\n",
        "no_sample_space_in_second_draw_given_first_was_spade = no_sample_space_in_first_draw - 1\n",
        "\n",
        "is_indpendent = is_independent_event(\n",
        "    no_ways_to_get_spade_in_first_draw, no_sample_space_in_first_draw,\n",
        "    no_ways_to_get_spade_in_second_draw, no_sample_space_in_second_draw,\n",
        "    no_ways_to_get_spade_in_second_draw_given_first_was_spade, no_sample_space_in_second_draw_given_first_was_spade\n",
        "    )\n",
        "\n",
        "print(f\"Two card draws are mutually independent: {is_indpendent}\")"
      ],
      "metadata": {
        "colab": {
          "base_uri": "https://localhost:8080/"
        },
        "id": "yjozToypi2H8",
        "outputId": "8e5d0271-4526-45b6-c3a0-4becbeb7cb40"
      },
      "execution_count": 23,
      "outputs": [
        {
          "output_type": "stream",
          "name": "stdout",
          "text": [
            "Two coin flips are mutually independent: True\n",
            "Two card draws are mutually independent: False\n"
          ]
        }
      ]
    },
    {
      "cell_type": "code",
      "source": [],
      "metadata": {
        "id": "lyyynmVc0oFR"
      },
      "execution_count": 40,
      "outputs": []
    },
    {
      "cell_type": "markdown",
      "source": [
        "## Law of total probability\n",
        "\n",
        "Suppose we have the following data:\n",
        "\n",
        "| - | Veg | Non-veg | Total |\n",
        "| --- | --- | --- | --- |\n",
        "| Female |  15 | 32 | 47 |\n",
        "| Male | 29 | 24 | 53 |\n",
        "| Total | 44 | 56 | 100 |\n",
        "\n",
        "The above dataset contains the number of male and female who are vegeterian and non-vegeterian.\n",
        "\n",
        "Therfore, the probability of a person being vegeterian (A) given that she is a woman (B) is:\n",
        "\n",
        "\\begin{equation}\n",
        "P(A|B) = \\frac{P(A \\cap B)}{P(B)} = \\frac{\\frac{15}{100}}{\\frac{47}{100}} \\\\\n",
        "P(A|B) = \\frac{15}{47} = 0.32\n",
        "\\end{equation}\n",
        "\n",
        "Morevoer, the probability of a person being female (A) given that she is a vegeterian (B) is:\n",
        "\n",
        "\\begin{equation}\n",
        "P(A|B) = \\frac{P(A \\cap B)}{P(B)} = \\frac{\\frac{15}{100}}{\\frac{44}{100}} \\\\\n",
        "P(A|B) = \\frac{15}{47} = 0.34\n",
        "\\end{equation}\n",
        "\n",
        "Therefore, $P(Veg|Female) \\neq P(Female|Veg)$. The probability of a person being female given that she is vegeterian is higher (34%) than the probability of a person being vegeterian given that she is a female (32%).\n",
        "\n",
        "If an event 'A' is the sum of finitely many events $B_1 \\cup B_2 \\cup ... \\cup B_n$, then the **law of total probability** states that:\n",
        "\n",
        "\\begin{equation}\n",
        "P(A) = P(A|B_1) . P(B_1) + P(A|B_2) . P(B_2) + .. + P(A|B_n) . P(B_n)\n",
        "\\end{equation}\n",
        "\n",
        "Therefore, from the above example, the probability of being a vegeterian is\n",
        "\n",
        "\\begin{equation}\n",
        "P(Veg) = P(Veg|Male) . P(Male) + P(Veg|Female) . P(Female) \\\\\n",
        "P(Veg) = (\\frac{29}{53} . \\frac{53}{100}) + (\\frac{15}{47} . \\frac{47}{100}) \\\\\n",
        "P(Veg) = 0.44\n",
        "\\end{equation}\n",
        "\n",
        "Therefore, there is a 44% chance that a person is vegeterian which matches the 'total' value of vegeterian in the above dataset."
      ],
      "metadata": {
        "id": "zVucbbJimPcM"
      }
    },
    {
      "cell_type": "code",
      "source": [
        "def get_total_probability(dataset, index_of_target_item, axis_of_target_item=0):\n",
        "  if len(dataset) == 0 or len(dataset.shape) != 2:\n",
        "    raise ValueError(\"Dataset cannot be empty and must contain two axis\")\n",
        "\n",
        "  if axis_of_target_item != 0 and axis_of_target_item != 1:\n",
        "    raise ValueError(\"Axis must either be 0 or 1\")\n",
        "\n",
        "  probability = 0\n",
        "  # For each row in axis opposite to the axis of the target item\n",
        "  for item_in_opposite_index in range(dataset.shape[np.abs(1-axis_of_target_item)]):\n",
        "\n",
        "    if axis_of_target_item == 1: # If we want to find the total probability of an index of the column e.g. vegeterian\n",
        "      favorable_outcome_a_and_b = dataset[item_in_opposite_index, index_of_target_item]\n",
        "      sample_space_a_and_b = np.sum(dataset[item_in_opposite_index])\n",
        "      sample_space = np.sum(dataset)\n",
        "    else: # If we want to find the total probability of an index of the row e.g. female\n",
        "      favorable_outcome_a_and_b = dataset[index_of_target_item, item_in_opposite_index]\n",
        "      sample_space_a_and_b = np.sum(dataset[:, item_in_opposite_index])\n",
        "      sample_space = np.sum(dataset)\n",
        "\n",
        "    probability_a_given_b = calculate_probability(favorable_outcome_a_and_b, sample_space_a_and_b) #favorable_outcome_a_and_b/sample_space_a_and_b\n",
        "    probability_b = calculate_probability(sample_space_a_and_b, sample_space)\n",
        "\n",
        "    probability += (probability_a_given_b * probability_b)\n",
        "\n",
        "\n",
        "  return probability\n",
        "\n",
        "dataset = np.array([\n",
        "    # Veg (44), Non-veg (56)\n",
        "    [15, 32], # Female (47)\n",
        "    [29, 24] # Male (53) => Total: 100\n",
        "])\n",
        "\n",
        "\n",
        "print(f\"The probability of being a vegeterian is {get_total_probability(dataset, index_of_target_item=0, axis_of_target_item=1)}\")\n",
        "print(f\"The probability of being a non-vegeterian is {get_total_probability(dataset, index_of_target_item=1, axis_of_target_item=1)}\")\n",
        "print(f\"The probability of being a female is {get_total_probability(dataset, index_of_target_item=0, axis_of_target_item=0)}\")\n",
        "print(f\"The probability of being a male is {get_total_probability(dataset, index_of_target_item=1, axis_of_target_item=0)}\")\n",
        "\n",
        "\n",
        "dataset = np.array([\n",
        "    # BMW (20), #Toyota (50), # Mercedes (30)\n",
        "    [15, 20, 10], # Blue (45)\n",
        "    [5, 30, 20] # Black (55) => Total 100\n",
        "])\n",
        "print(\"\\n\")\n",
        "print(f\"The probability of being a blue car is {get_total_probability(dataset, index_of_target_item=0, axis_of_target_item=0)}\")\n",
        "print(f\"The probability of being a black car is {get_total_probability(dataset, index_of_target_item=1, axis_of_target_item=0)}\")\n",
        "print(f\"The probability of being a bmw is {get_total_probability(dataset, index_of_target_item=0, axis_of_target_item=1)}\")\n",
        "print(f\"The probability of being a toyota is {get_total_probability(dataset, index_of_target_item=1, axis_of_target_item=1)}\")\n",
        "print(f\"The probability of being a mercedes is {get_total_probability(dataset, index_of_target_item=2, axis_of_target_item=1)}\")"
      ],
      "metadata": {
        "colab": {
          "base_uri": "https://localhost:8080/"
        },
        "id": "w92LU_eEj2Rz",
        "outputId": "a46a3178-c1fc-48ba-a289-ee720a85552d"
      },
      "execution_count": 25,
      "outputs": [
        {
          "output_type": "stream",
          "name": "stdout",
          "text": [
            "The probability of being a vegeterian is 0.44000000000000006\n",
            "The probability of being a non-vegeterian is 0.5599999999999999\n",
            "The probability of being a female is 0.47\n",
            "The probability of being a male is 0.53\n",
            "\n",
            "\n",
            "The probability of being a blue car is 0.45\n",
            "The probability of being a black car is 0.5499999999999999\n",
            "The probability of being a bmw is 0.2\n",
            "The probability of being a toyota is 0.5\n",
            "The probability of being a mercedes is 0.3\n"
          ]
        }
      ]
    },
    {
      "cell_type": "markdown",
      "source": [
        "## Additive Law\n",
        "\n",
        "The probability of union of two set is equal to the sum of their individual probability minus the probability of intersection of the two sets.\n",
        "\n",
        "\\begin{equation}\n",
        "P(A \\cup B) = P(A) + P(B) - P(A \\cap B)\n",
        "\\end{equation}\n",
        "\n",
        "From the previous dataset\n",
        "\n",
        "| - | Veg | Non-veg | Total |\n",
        "| --- | --- | --- | --- |\n",
        "| Female |  15 | 32 | 47 |\n",
        "| Male | 29 | 24 | 53 |\n",
        "| Total | 44 | 56 | 100 |\n",
        "\n",
        "If we want to calculate the probability of being a female (A) or a vegeterian (B) or both, we need to use the following:\n",
        "\n",
        "\\begin{equation}\n",
        "P(female \\cup vegeterian) = P(female) + P(vegeterian) - P(female \\cap vegeterian) \\\\\n",
        "P(female \\cup vegeterian) = 0.47 + 0.44 - 0.15 = 0.76\n",
        "\\end{equation}"
      ],
      "metadata": {
        "id": "xoxosXbml8LE"
      }
    },
    {
      "cell_type": "code",
      "source": [
        "dataset = np.array([\n",
        "    # Veg (44), Non-veg (56)\n",
        "    [15, 32], # Female (47)\n",
        "    [29, 24] # Male (53) => Total: 100\n",
        "])\n",
        "\n",
        "# Probability of being female and vegeterian\n",
        "probability_of_female = get_total_probability(dataset, index_of_target_item=0, axis_of_target_item=0)\n",
        "probability_of_vegeterian = get_total_probability(dataset, index_of_target_item=0, axis_of_target_item=1)\n",
        "probability_of_female_and_vegeterian = calculate_probability(dataset[0, 0], np.sum(dataset))\n",
        "\n",
        "probability_of_female_or_vegeterian = probability_of_female + probability_of_vegeterian - probability_of_female_and_vegeterian\n",
        "print(f'Probability of being a female or a vegeterian is {probability_of_female_or_vegeterian}')"
      ],
      "metadata": {
        "colab": {
          "base_uri": "https://localhost:8080/"
        },
        "id": "UUKsc1Ehn_Zx",
        "outputId": "3a6917b2-c678-4dd1-fffc-9bcfc4bc2a3c"
      },
      "execution_count": 26,
      "outputs": [
        {
          "output_type": "stream",
          "name": "stdout",
          "text": [
            "Probability of being a female or a vegeterian is 0.76\n"
          ]
        }
      ]
    },
    {
      "cell_type": "markdown",
      "source": [
        "## Multiplication rule\n",
        "\n",
        "From the rule of conditional probability, we get\n",
        "\n",
        "\\begin{equation}\n",
        "P(A|B) = \\frac{P(A \\cap B)}{P(B)}\n",
        "\\end{equation}\n",
        "\n",
        "If we multiply both sides by $P(B)$, we get the following formula for **dependent events**:\n",
        "\n",
        "\\begin{equation}\n",
        "P(A|B) . P(B) = P(A \\cap B) \\\\\n",
        "P(A \\cap B) = P(A|B) . P(B)\n",
        "\\end{equation}\n",
        "\n",
        "\n",
        "**Summary:**\n",
        "\n",
        "1. For independent events:\n",
        "\n",
        "\\begin{equation}\n",
        "P(A \\cap B) = P(A) . P (B)\n",
        "\\end{equation}\n",
        "\n",
        "2. For dependent events:\n",
        "\n",
        "\\begin{equation}\n",
        "P(A \\cap B) = P(A|B) . P(B)\n",
        "\\end{equation}"
      ],
      "metadata": {
        "id": "MELKKexBpjUg"
      }
    },
    {
      "cell_type": "code",
      "source": [],
      "metadata": {
        "id": "2jkydNWtot3d"
      },
      "execution_count": 26,
      "outputs": []
    },
    {
      "cell_type": "markdown",
      "source": [
        "## Bayes' Rule\n",
        "\n",
        "Using the rule of **conditional probability**, we get\n",
        "\n",
        "\\begin{equation}\n",
        "P(A|B) = \\frac{P(A \\cap B)}{P(B)}\n",
        "\\end{equation}\n",
        "\n",
        "By applying the **multiplication rule**, we get\n",
        "\n",
        "\\begin{equation}\n",
        "P(B|A) . P(A) = P(A \\cap B)\n",
        "\\end{equation}\n",
        "\n",
        "Therefore, applying both the equations we get\n",
        "\n",
        "\\begin{equation}\n",
        "P(A|B) = \\frac{P(B|A) P(A)}{P(B)}\n",
        "\\end{equation}\n",
        "\n",
        "This is the Bayes' rule. It is used to find a causal relationship between two events. It finds the probability of one event occurring given that another event has already occurred.\n",
        "\n",
        "**Example**\n",
        "\n",
        "Let us consider a scenario where we trying to find - what are companies looking for in a resume: good academic performance (A) or experience (B)?\n",
        "\n",
        "Suppose we go through a list of 200 resumes of candidates that have been selected and find the following information:\n",
        "\n",
        "1. Out of all the selected candidates 45% of them have the relevant experience i.e. $P(B) = 0.45$\n",
        "\n",
        "2. Out of all the selected candidates 60% of them had good academic performance i.e. $P(A) = 0.60$.\n",
        "\n",
        "3. Out of all the selected candidates who had relevant experience, 50% of them also performed well academically i.e. $P(A|B) = 0.50$.\n",
        "\n",
        "We need to find what percentage of selected candidates who had good academic performance also had the relevant experience i.e. $P(B|A)$.\n",
        "\n",
        "From Bayes' law we get\n",
        "\n",
        "\n",
        "\\begin{equation}\n",
        "P(B|A) = \\frac{P(A|B) P(B)}{P(A)} = \\frac{0.50 * 0.45}{0.6} = 0.375 = 37.5\\%\n",
        "\\end{equation}\n",
        "\n",
        "Since $50\\%$ is greater than $37.5%$, it is more likely for a candidate with experience to perform well academically rather than a candidate with good academic performance to have relevant experience.\n",
        "\n",
        "From this we can conclude that the companies are looking for candidates with experience rather than academic performance.\n",
        "\n",
        "\n"
      ],
      "metadata": {
        "id": "ocU8-VSNs3n6"
      }
    },
    {
      "cell_type": "code",
      "source": [],
      "metadata": {
        "id": "bJB9wpltjuaK"
      },
      "execution_count": null,
      "outputs": []
    },
    {
      "cell_type": "markdown",
      "source": [
        "# Understanding the result of Probability\n",
        "\n",
        "Suppose we draw two cards from a deck of cards. In the first draw we get a spade (B) and in the second draw we also get a spade (A). We want to know if the probability of getting a spade in the second draw has an effect on the probability of getting a spade in the first draw, $P(A|B)$.\n",
        "\n",
        "Theoretically we know that if we get a spade the second time, it does not have anything to do with what we get in the first draw i.e. $P(B|A)$ should be the same as $P(B)$. But the probability of getting a spade the second time is impacted by what we get in the first draw of the card i.e. $P(A|B)$ should **not** be the same as $P(A)$. We want to prove it using Baye's law.\n",
        "\n",
        "1. First we find the probability of getting a spade in the first draw i.e. $P(B)$.\n",
        "\n",
        "\\begin{equation}\n",
        "P(B) = \\frac{no. \\quad of \\quad spades}{total \\quad no. \\quad of \\quad cards \\quad in \\quad first \\quad draw} \\\\\n",
        "P(B) = \\frac{13}{52} = 0.25 = 25\\%\n",
        "\\end{equation}\n",
        "\n",
        "\n",
        "2. Next we find the probability of **not** getting a spade in the first draw i.e. $P(B')$.\n",
        "\n",
        "\\begin{equation}\n",
        "P(B') = 1 - P(B) = 1 - 0.25 = 0.75 = 75\\%\n",
        "\\end{equation}\n",
        "\n",
        "3. Now we find the probability of spade in the second draw i.e $P(A)$\n",
        "\n",
        "From the law of total probability, we get that:\n",
        "\n",
        "\\begin{equation}\n",
        "P(A)  = P(A|B_1) P(B_1) + P(A|B_2) P(B_2)...\n",
        "\\end{equation}\n",
        "\n",
        "Here, the event 'B' which is the first draw can be of two types: Either we get a spade in the first draw or we don't. Therefore the equation becomes:\n",
        "\n",
        "\\begin{equation}\n",
        "P(A)  = P(A|B) P(B) + P(A|B') P(B') \\\\\n",
        "P(A) = P(A|B) . 0.25 + P(A|B') . 0.75\n",
        "\\end{equation}\n",
        "\n",
        "$P(A|B)$ means the probability of getting a spade in the second draw given that we get a spade in the first draw. If we get a spade in the first draw, we will have 51 cards left in total and 12 spades left. So, the probability becomes\n",
        "\n",
        "\\begin{equation}\n",
        "P(A|B) = \\frac{12}{51} = 0.235\n",
        "\\end{equation}\n",
        "\n",
        "$P(A|B')$ means the probability of getting a spade in the second draw given that we **did not** get a spade in the first draw. If we did not get a spade in the first draw, we will have 51 cards left in total and 13 spades left. So, the probability becomes\n",
        "\n",
        "\\begin{equation}\n",
        "P(A|B') = \\frac{13}{51} = 0.255\n",
        "\\end{equation}\n",
        "\n",
        "So, from the above equations we get\n",
        "\n",
        "\\begin{equation}\n",
        "P(A) = P(A|B) . 0.25 + P(A|B') . 0.75 \\\\\n",
        "P(A) = 0.235 . 0.25 + 0.255 . 0.75 = 0.25 = 25\\%\n",
        "\\end{equation}\n",
        "\n",
        "4. Finally, we need to find the probability of getting a spade in the first draw given that we got a spade in the second draw i.e. $P(B|A)$\n",
        "\n",
        "According to Bayes' law:\n",
        "\n",
        "\\begin{equation}\n",
        "P(B|A) = \\frac{P(A|B) P(B)}{P(A)} \\\\\n",
        "P(B|A) = \\frac{0.235 * 0.25}{0.25} = 0.235 = 23.5\\%\n",
        "\\end{equation}\n",
        "\n",
        "From the above equation we see that the probability of getting a spade in the first draw i.e. $P(B) = 25\\%$. But if we know that the second draw was a spade it changes the probability of getting a spade in the first draw to $23.5\\%$.\n",
        "\n",
        "**Does that mean future events can have an impact on past events? But it sounds logically impossible since future events happen after the past event and therefore cannot impact any of the past events. So, what does our result mean?**\n",
        "\n",
        "...Take your time and think about it before you move on to the next part. If you can figure out the answer there is a very high probability that you have understood 'probability'.\n",
        "\n"
      ],
      "metadata": {
        "id": "JqKqkjh4jtFp"
      }
    },
    {
      "cell_type": "code",
      "source": [
        "def calculate_bayes_law_a_given_b(b_given_a, probability_of_b, probability_of_a):\n",
        "  return (b_given_a * probability_of_a) / probability_of_b\n",
        "\n",
        "# Fist draw\n",
        "total_no_spades = 13\n",
        "total_cards = 52\n",
        "\n",
        "probability_of_getting_spades_in_first_draw = calculate_probability(total_no_spades, total_cards)\n",
        "print(f\"Probability of getting a spades in first draw {probability_of_getting_spades_in_first_draw}\")\n",
        "\n",
        "probability_of_not_getting_spades_in_first_draw =  1 - probability_of_getting_spades_in_first_draw\n",
        "print(f\"Probability of not getting a spades in first draw {probability_of_not_getting_spades_in_first_draw}\")\n",
        "\n",
        "# Second draw\n",
        "total_cards = total_cards - 1\n",
        "\n",
        "probability_spade_in_second_draw_given_first_was_spade = calculate_probability(total_no_spades - 1, total_cards) # Since the first was spades and we did not put it back, we have one spades less this time\n",
        "probability_spade_in_second_draw_given_first_was_not_spade = calculate_probability(total_no_spades, total_cards) # Since the first was not spades we still have 13 spades in deck\n",
        "\n",
        "print(f\"Probability of spade in second draw given first was spade: {probability_spade_in_second_draw_given_first_was_spade}\")\n",
        "print(f\"Probability of spade in second draw given first was not a spade: {probability_spade_in_second_draw_given_first_was_not_spade}\")\n",
        "\n",
        "probability_of_spade_in_second_draw = (probability_spade_in_second_draw_given_first_was_spade * probability_of_getting_spades_in_first_draw) \\\n",
        "                                      + (probability_spade_in_second_draw_given_first_was_not_spade * probability_of_not_getting_spades_in_first_draw)\n",
        "\n",
        "print(f\"Probability of getting a spade in second draw: {probability_of_spade_in_second_draw}\")\n",
        "\n",
        "probability_spade_first_draw_given_second_was_spades = calculate_bayes_law_a_given_b(probability_spade_in_second_draw_given_first_was_spade, probability_of_spade_in_second_draw, probability_of_getting_spades_in_first_draw)\n",
        "\n",
        "print(f\"Probability of getting spade in first draw given second draw was spade: {probability_spade_first_draw_given_second_was_spades}\")"
      ],
      "metadata": {
        "colab": {
          "base_uri": "https://localhost:8080/"
        },
        "id": "dHD_lFBPjtnX",
        "outputId": "25b69bb6-3a72-4444-97ae-3d8651a60f4a"
      },
      "execution_count": 41,
      "outputs": [
        {
          "output_type": "stream",
          "name": "stdout",
          "text": [
            "Probability of getting a spades in first draw 0.25\n",
            "Probability of not getting a spades in first draw 0.75\n",
            "Probability of spade in second draw given first was spade: 0.23529411764705882\n",
            "Probability of spade in second draw given first was not a spade: 0.2549019607843137\n",
            "Probability of getting a spade in second draw: 0.25\n",
            "Probability of getting spade in first draw given second draw was spade: 0.23529411764705882\n"
          ]
        }
      ]
    },
    {
      "cell_type": "markdown",
      "source": [
        "Our calculation is correct and the results are correct. Moreover, the fact that future events cannot have any impact on past events is also correct. The only thing we were doing wrong is **interpreting the results of Bayes' law incorrectly**.\n",
        "\n",
        "When we say that we want to **find the probability of drawing spades in first draw given that second draw was a spade** - this statement means that we already know that we will get a spade in the second draw while we are calculating the probability of first draw. It also means that since we know what will happen in the second draw, it is no longer an unknown future event.\n",
        "\n",
        "Moreover, since we do not put a card back in the deck after the first draw, we know that the spades that we get in the second draw will not be drawn during the first draw. When we consider these facts - our calculation of the probability of drawing a spades in the first draw $P(B)$ changes:\n",
        "\n",
        "\\begin{equation}\n",
        "P(B) = \\frac{no \\quad of \\quad spades \\quad except \\quad the \\quad one \\quad in \\quad second \\quad draw}{total \\quad no. \\quad of \\quad cards \\quad except \\quad one \\quad in \\quad second \\quad draw}\n",
        "\\end{equation}\n",
        "\n",
        "Knowing the above facts, when we are calculating the probability of spades in first draw we need to keep the spades that we get in second draw out of our calculation. So, the result becomes:\n",
        "\n",
        "\\begin{equation}\n",
        "P(B) = \\frac{12}{51} = 0.235 = 23.5\\%\n",
        "\\end{equation}\n",
        "\n",
        "Now the probability of $P(B|A)=23.5\\%$ is the same as $P(B) = 23.5\\%$. This proves the fact that the second draw of card does not have any effect on what we get during our first draw - **it only affects our calculation if we already know what the card during the second draw will be**.\n",
        "\n",
        "So, when calculating probabilities of event it is very important to know what is an assumption and what is a fact. Moreover, it is important to clearly define the prior knowledge and include it in our calculation. Otherwise, we will easily fall into a similar situation where we get results that leads us to make a wrong interpretation of the data."
      ],
      "metadata": {
        "id": "tW42VGFWtyio"
      }
    },
    {
      "cell_type": "code",
      "source": [],
      "metadata": {
        "id": "mVZ4TBV6z1zM"
      },
      "execution_count": null,
      "outputs": []
    },
    {
      "cell_type": "markdown",
      "source": [
        "**References:**\n",
        "\n",
        "1. [The Data Science Course: Complete Data Science Bootcamp](https://www.udemy.com/share/101W9c3@oEFxH6jfeF78cKv-RDiIPVbI_iJt7crj25dGEjsiIRt9MbSV8n50dmB7AlanMAikNg==/)"
      ],
      "metadata": {
        "id": "0DnxNXT_z2Mk"
      }
    },
    {
      "cell_type": "code",
      "source": [],
      "metadata": {
        "id": "THNvnXAb0A_p"
      },
      "execution_count": null,
      "outputs": []
    }
  ]
}