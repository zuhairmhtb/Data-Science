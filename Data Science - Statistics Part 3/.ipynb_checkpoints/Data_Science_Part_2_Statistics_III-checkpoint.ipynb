{
 "cells": [
  {
   "cell_type": "code",
   "execution_count": null,
   "id": "30496aaa",
   "metadata": {},
   "outputs": [],
   "source": [
    "!pip install -U kaleido"
   ]
  },
  {
   "cell_type": "code",
   "execution_count": 1,
   "id": "e92b36be",
   "metadata": {},
   "outputs": [],
   "source": [
    "import matplotlib.pyplot as plt\n",
    "import numpy as np\n",
    "import scipy.stats as stats\n",
    "import pandas as pd"
   ]
  },
  {
   "cell_type": "code",
   "execution_count": 4,
   "id": "e28c3970",
   "metadata": {},
   "outputs": [],
   "source": [
    "mode = 'jupyter' #colab\n",
    "render = 'plot' #image"
   ]
  },
  {
   "cell_type": "code",
   "execution_count": 5,
   "id": "6ad495ca",
   "metadata": {},
   "outputs": [],
   "source": [
    "import plotly.offline as pyo\n",
    "import plotly.graph_objs as go\n",
    "from plotly.offline import iplot\n",
    "\n",
    "from plotly.offline import download_plotlyjs, init_notebook_mode, plot, iplot\n",
    "\n",
    "if mode == 'colab':\n",
    "    import cufflinks as cf\n",
    "    cf.go_offline()\n",
    "    init_notebook_mode(connected=False)\n",
    "\n",
    "import plotly.graph_objects as go\n",
    "import plotly.express as px\n",
    "from plotly.subplots import make_subplots\n",
    "\n",
    "# Config for Colab\n",
    "def configure_plotly_browser_state():\n",
    "    import IPython\n",
    "    display(IPython.core.display.HTML('''\n",
    "        <script src=\"/static/components/requirejs/require.js\"></script>\n",
    "        <script>\n",
    "          requirejs.config({\n",
    "            paths: {\n",
    "              base: '/static/base',\n",
    "              plotly: 'https://cdn.plot.ly/plotly-1.5.1.min.js?noext',\n",
    "            },\n",
    "          });\n",
    "        </script>\n",
    "        '''))"
   ]
  },
  {
   "cell_type": "code",
   "execution_count": 6,
   "id": "de5b9761",
   "metadata": {},
   "outputs": [],
   "source": [
    "if render == 'image':\n",
    "    import plotly.io as pio\n",
    "    pio.renderers.default = 'png'"
   ]
  },
  {
   "cell_type": "markdown",
   "id": "7a5a8ba9",
   "metadata": {},
   "source": [
    "# Statistics - Hypothesis Testing\n",
    "\n",
    "\n",
    "Hypothesis the process of testing an idea using statistics. An idea must be testable. For example, if we have a idea 'the price of apples in a city is expensive' - this idea is not testable unless we have something to compare it with. But if we change the idea to 'the price of apples in a city is greater than or equal to $\\$$1.75' - in this case we can test the idea since we can compare it with a price. So, the idea then becomes a hypothesis.\n",
    "\n",
    "To perform hypothesis testing, we follow the steps mentioned below:\n",
    "\n",
    "- Generate a testable idea\n",
    "\n",
    "- Design an experiment to test the hypothesis\n",
    "\n",
    "- Collect the result of the experiment\n",
    "\n",
    "- Analyze the result\n",
    "\n",
    "Hypothesis are of two types:\n",
    "\n",
    "- **Null Hypothesis:** In hypothesis testing, null hypothesis is the hypothesis that we want to test. For our above example, the null hypothesis will be 'the price of apples in a city is greater than or equal to 1.75'. It is denoted by $H_0$\n",
    "\n",
    "- **Alternate Hypothesis:** All results that are not included in null hypothesis falls under alternate hypothesis. For our above example, the alternate hypothesis will be 'the price of apples in a city is less than $\\$$1.75'. It is dentoted by $H_A$ or $H_1$.\n",
    "\n",
    "\\begin{equation}\n",
    "H_0 : \\mu_0 \\geq 1.75 \\\\\n",
    "H_1: \\mu_1 < 1.75\n",
    "\\end{equation}\n",
    "\n",
    "During a test, we try to disprove the null hypothesis. $H_0$ is considered true until proved otherwise. \n",
    "\n",
    "**In statistics, null hypothesis is the statement that we are trying to reject.**\n",
    "\n",
    "Hypothesis testing are of two types:\n",
    "\n",
    "- **Two-tailed test:** In hypothesis testing, if a test allow for the possibility of an effect in two direction, then the test is known as two-tailed test.\n",
    "\n",
    "As for example, if our null hypothesis is - The mean salary of a data scientist is $\\$$ 100,000. In this case, we consider the probability distribution of the salaries:"
   ]
  },
  {
   "cell_type": "code",
   "execution_count": 9,
   "id": "ca694274",
   "metadata": {},
   "outputs": [
    {
     "data": {
      "image/png": "[encoded data removed]",
      "text/plain": [
       "<Figure size 640x480 with 1 Axes>"
      ]
     },
     "metadata": {},
     "output_type": "display_data"
    }
   ],
   "source": [
    "null_hypothesis = 100_000\n",
    "samples = np.random.normal(loc=null_hypothesis, scale=10_000, size=10000)\n",
    "plt.figure()\n",
    "plt.hist(samples, density=True)\n",
    "plt.grid()\n",
    "plt.xlabel(\"Salary ($)\")\n",
    "plt.ylabel(\"Probability\")\n",
    "plt.show()"
   ]
  },
  {
   "cell_type": "markdown",
   "id": "4a6ad80e",
   "metadata": {},
   "source": [
    "The alternative hypothesis is - The mean salary is either greater than or less than $\\$$ 100,000. If the null hypothesis is wrong, the actual mean salary can either be on the left side of 100,000 in the distribution or it can be in the right side. Since the effect can be on two sides, these type of test is known as two-tailed test. It is also known as two-sided test.\n",
    "\n",
    "- **One-tailed test:** In hypothesis testing, if a test allow for the possibility of an effect in one direction, then the test is known as one-tailed test.\n",
    "\n",
    "For example, if the null hypothesis is, 'The mean salary of data scientist is **greater than or equal to** $\\$$ 100,00' - in this case if the null hypothesis is wrong then the actual mean will be somewhere on left side of $\\$$ 100,000 in the distribution. So, these type of test is known as one-tailed test or one-sided test.\n",
    "\n",
    "## Signficance Level\n",
    "\n",
    "In statistics, we are try to reject a null hypotheis. However, there is always a small possibility that we make an error and reject a null hypothesis that is true. The probability of rejecting a null hypothesis that is true, is known as significance level. It is denoted by $\\alpha$.\n",
    "\n",
    "It is the complement of confidence level. The typical values for $\\alpha$ are 0.01, 0.05, and 0.1. This value is selected during the experiment based on the requirements of the task."
   ]
  },
  {
   "cell_type": "code",
   "execution_count": null,
   "id": "6eb6c905",
   "metadata": {},
   "outputs": [],
   "source": []
  },
  {
   "cell_type": "markdown",
   "id": "17614a0f",
   "metadata": {},
   "source": [
    "### Z-Test (Two-tailed test)\n",
    "\n",
    "Suppose, we have the following hypothesis - The average grade of students in a college is $70\\%$ i.e.\n",
    "\n",
    "\\begin{equation}\n",
    "H_0 : \\mu_0 = 0.70 \\\\\n",
    "H_1: \\mu_1 \\neq 0.70\n",
    "\\end{equation}\n",
    "\n",
    "We assume that the grades are normally distributed. To test this hypothesis we can perform a z-test. The equation of a z-test is as follows:\n",
    "\n",
    "\\begin{equation}\n",
    "Z = \\frac{\\bar{x} - \\mu}{\\frac{s}{\\sqrt{n}}}\n",
    "\\end{equation}\n",
    "\n",
    "Here,\n",
    "- $\\bar{x}$ is the sample mean\n",
    "- $\\mu$ is the population mean i.e. $70\\%$\n",
    "- $s$ is the standard deviation of the sample\n",
    "- $n$ is the sample size\n",
    "- $\\frac{s}{\\sqrt{n}}$ is the standard error\n",
    "\n",
    "If the mean of our sample is close to zero, then the value of 'Z' is close to zero. So, lower value of z means that we accept the null hypothesis. But what should the significance level be. Suppose, we assume that the signficance level is 0.05. In that case the graph will will look like:"
   ]
  },
  {
   "cell_type": "code",
   "execution_count": 33,
   "id": "388e343b",
   "metadata": {},
   "outputs": [
    {
     "data": {
      "image/png": "[encoded data removed]",
      "text/plain": [
       "<Figure size 640x480 with 1 Axes>"
      ]
     },
     "metadata": {},
     "output_type": "display_data"
    }
   ],
   "source": [
    "alpha = 0.05\n",
    "x = np.linspace(-4, 4, 1000)\n",
    "density = stats.norm.pdf(x)\n",
    "critical_value = stats.norm.ppf(1 - alpha/2)\n",
    "left_indices = np.where(x <= -critical_value)[0]\n",
    "right_indices = np.where(x >= critical_value)[0]\n",
    "\n",
    "plt.figure()\n",
    "plt.fill(x, density, color='blue')\n",
    "plt.fill_between(x[left_indices], density[left_indices], color='green')\n",
    "plt.fill_between(x[right_indices], density[right_indices], color='green')\n",
    "plt.grid()\n",
    "plt.show()"
   ]
  },
  {
   "cell_type": "markdown",
   "id": "51a8603c",
   "metadata": {},
   "source": [
    "For a standard normal distribution, the mean is 0 and the standard deviation is 1. So, for $alpha=0.05$, the z-score will be \n",
    "\\begin{equation}\n",
    "Table(1 - \\frac{\\alpha}{2}) = Table(0.975) - 1.9 + 0.6 = 1.96\n",
    "\\end{equation}\n",
    "\n",
    "Since the test is a two-tailed test, if our calculated grade lies in a region outside some value on the left or in a region outside some value on the right, we will consider the null hypothesis to be as false. We calculated the critical value to be 2.5. Therefore, if our result is below $-1.96$ or above $1.96$ we will consider the null hypothesis to be false. The region is colored in green in the above distribution. This region is known as **rejection region** because we will reject the null hypothesis if our result falls within this region.\n",
    "\n",
    "To perform the test we take the following steps:\n",
    "\n",
    "- Create a distribution of sample grades.\n",
    "- We compute the 'Z statistic' using the equation $\\frac{\\bar{x} - \\mu}{\\frac{s}{\\sqrt{n}}}$\n",
    "- We choose a significance level $\\alpha$.\n",
    "- We calculate the critical value.\n",
    "\n",
    "If the z-statistic result is below the minimum critical value or above the maximum critical value, we consider the null hypothesis to be false. Otherwise we consider it to be correct."
   ]
  },
  {
   "cell_type": "code",
   "execution_count": 60,
   "id": "f852e33a",
   "metadata": {},
   "outputs": [
    {
     "name": "stdout",
     "output_type": "stream",
     "text": [
      "The z-score is -1.15282548323108 and the critical value is 1.959963984540054\n",
      "The z-score is within the range of critical value. So, with a significance level of 0.05, we accept the null hypothesis\n"
     ]
    }
   ],
   "source": [
    "def calculate_z_score(sample_mean, hypothesized_mean, sample_standard_deviation, sample_size):\n",
    "    standard_error = sample_standard_deviation/np.sqrt(sample_size)\n",
    "    return (sample_mean - hypothesized_mean)/standard_error\n",
    "\n",
    "hypothesis_mean_grade = 0.70\n",
    "sample_student_grades = [0.4, 0.6, 0.5, 0.1, 0.4, 0.7, 0.9, 0.8, 0.85, 0.9, 0.7, 0.63]\n",
    "\n",
    "# Calculate sample mean\n",
    "sample_mean = np.mean(sample_student_grades)\n",
    "sample_standard_deviation = np.std(sample_student_grades)\n",
    "sample_size = len(sample_student_grades)\n",
    "significance_level = 0.05\n",
    "\n",
    "z_score = calculate_z_score(sample_mean, hypothesis_mean_grade, sample_standard_deviation, sample_size)\n",
    "critical_value = stats.norm.ppf(1-(significance_level)/2)\n",
    "\n",
    "print(f\"The z-score is {z_score} and the critical value is {critical_value}\")\n",
    "accepted = -critical_value <= z_score <= critical_value\n",
    "result = \"accept\" if accepted else \"reject\"\n",
    "result_range = \"within\" if accepted else \"outside\"\n",
    "print(f\"The z-score is {result_range} the range of critical value. So, with a significance level of {significance_level}, we {result} the null hypothesis\")"
   ]
  },
  {
   "cell_type": "code",
   "execution_count": 58,
   "id": "c7ea2ae9",
   "metadata": {},
   "outputs": [
    {
     "data": {
      "text/plain": [
       "False"
      ]
     },
     "execution_count": 58,
     "metadata": {},
     "output_type": "execute_result"
    }
   ],
   "source": []
  },
  {
   "cell_type": "markdown",
   "id": "928e3ea5",
   "metadata": {},
   "source": [
    "### Z-Test (One-tailed test)\n",
    "\n",
    "Suppose we have the following hypothesis - The average salary of a data scientist is more than $\\$$125,000. So, the hypothesis becomes:\n",
    "\n",
    "\\begin{equation}\n",
    "H_0 : \\mu_0 \\geq \\$125,000 \\\\\n",
    "H_1: \\mu_1 < \\$125,000\n",
    "\\end{equation}\n",
    "\n",
    "If the value of our calculation is greater than or equal to 125,000, we accept the null hypothesis. However, if our result is less than $x = 125,000$ where 'x' is a critical value threshold, then we reject the null hypothesis. So, this time the rejection region is only on left of the distribution i.e. it is on one side."
   ]
  },
  {
   "cell_type": "code",
   "execution_count": 42,
   "id": "fda04dd9",
   "metadata": {},
   "outputs": [
    {
     "data": {
      "image/png": "[encoded data removed]",
      "text/plain": [
       "<Figure size 640x480 with 1 Axes>"
      ]
     },
     "metadata": {},
     "output_type": "display_data"
    }
   ],
   "source": [
    "alpha = 0.05\n",
    "x = np.linspace(-4, 4, 1000)\n",
    "density = stats.norm.pdf(x)\n",
    "critical_value = stats.norm.ppf(1 - alpha/2)\n",
    "left_indices = np.where(x <= -critical_value)[0]\n",
    "\n",
    "plt.figure()\n",
    "plt.fill(x, density, color='blue')\n",
    "plt.fill_between(x[left_indices], density[left_indices], color='green')\n",
    "plt.grid()\n",
    "plt.show()"
   ]
  },
  {
   "cell_type": "code",
   "execution_count": null,
   "id": "7820ac26",
   "metadata": {},
   "outputs": [],
   "source": []
  },
  {
   "cell_type": "markdown",
   "id": "54512c76",
   "metadata": {},
   "source": [
    "If we consider a significance level ($\\alpha$) of 0.05, the equation to calculate the critical value from the z-table will be \n",
    "\n",
    "\\begin{equation}\n",
    "Table(1 - \\alpha) = Table(0.95) - 1.6 + 0.04 = 1.64\n",
    "\\end{equation}\n",
    "\n",
    "Since the test is one-tailed we have considered $1-\\alpha$ instead of $1-\\frac{\\alpha}{2}$. Therefore, if our z-score is below $-1.64$, we will reject the null hypothesis."
   ]
  },
  {
   "cell_type": "code",
   "execution_count": 62,
   "id": "6ac86ae0",
   "metadata": {},
   "outputs": [
    {
     "name": "stdout",
     "output_type": "stream",
     "text": [
      "The z-score is -14.350211546474549 and the critical value is 1.6448536269514722\n",
      "The z-score is outside the range of critical value. So, with a significance level of 0.05, we reject the null hypothesis\n"
     ]
    }
   ],
   "source": [
    "hypothesis_mean_salary = 125_000\n",
    "sample_salaries = [70_000, 50_000, 75_000, 80_000, 90_000, 80_000, 70_000, 65_000, 80_000]\n",
    "\n",
    "\n",
    "# Calculate sample mean\n",
    "sample_mean = np.mean(sample_salaries)\n",
    "sample_standard_deviation = np.std(sample_salaries)\n",
    "sample_size = len(sample_salaries)\n",
    "significance_level = 0.05\n",
    "\n",
    "z_score = calculate_z_score(sample_mean, hypothesis_mean_salary, sample_standard_deviation, sample_size)\n",
    "critical_value = stats.norm.ppf(1 - significance_level)\n",
    "\n",
    "print(f\"The z-score is {z_score} and the critical value is {critical_value}\")\n",
    "accepted = z_score >= -critical_value\n",
    "result = \"accept\" if accepted else \"reject\"\n",
    "result_range = \"within\" if accepted else \"outside\"\n",
    "print(f\"The z-score is {result_range} the range of critical value. So, with a significance level of {significance_level}, we {result} the null hypothesis\")"
   ]
  },
  {
   "cell_type": "markdown",
   "id": "7d99dea8",
   "metadata": {},
   "source": [
    "In the above example, our z-score is $-14.3$ and the critical value is $-1.64$. Since, the z-score falls outside the range of our critical value we can reject the null hypothesis."
   ]
  },
  {
   "cell_type": "code",
   "execution_count": null,
   "id": "161366bd",
   "metadata": {},
   "outputs": [],
   "source": []
  },
  {
   "cell_type": "markdown",
   "id": "f264712a",
   "metadata": {},
   "source": [
    "## Type I Errors\n",
    "\n",
    "\n",
    "**Type I** error is an error that we make when we **reject a true null** hypothesis. This is also known as **false positive**. \n",
    "\n",
    "The probability of making this error is $\\alpha$ i.e. the level of significance. If we choose a wrong significance level then this error may occur. \n"
   ]
  },
  {
   "cell_type": "code",
   "execution_count": 83,
   "id": "4f123b59",
   "metadata": {},
   "outputs": [
    {
     "data": {
      "image/png": "[encoded data removed]",
      "text/plain": [
       "<Figure size 640x480 with 1 Axes>"
      ]
     },
     "metadata": {},
     "output_type": "display_data"
    }
   ],
   "source": [
    "one_minus_alpha = np.arange(0, 1, 0.001)\n",
    "critical_values = stats.norm.ppf(significance_levels)\n",
    "\n",
    "fig, ax = plt.subplots()\n",
    "\n",
    "ax.plot(1- one_minus_alpha, critical_values, label='critical value')\n",
    "ax.set_xlabel(\"Significance level, alpha\")\n",
    "ax.set_ylabel(\"Critical value, z\")\n",
    "\n",
    "plt.grid()\n",
    "plt.title(\"Significance level VS Critical value\")\n",
    "plt.show()"
   ]
  },
  {
   "cell_type": "markdown",
   "id": "21da8372",
   "metadata": {},
   "source": [
    "If we choose a very low significance level, the value of $1-\\alpha$ increases. If this increases, then the critical value increases. \n",
    "As the critical value increases, the range of acceptance region becomes wider as the rejection region becomes narrower. \n",
    "\n",
    "If the range of acceptance region is wider, then there is a higher possibility that the true population mean (predicted by null hypothesis) may within the acceptance range. \n",
    "\n",
    "\n",
    "## Type II Errors\n",
    "\n",
    "\n",
    "**Type II** error is an error that we make when we **accept a false null** hypothesis. This is also known as **false negative**. \n",
    "\n",
    "The probability of making this error is $\\beta$. This type of error occurs due to sample size and variance. The probability of rejecting a false null hypothesis is $1-\\beta$. This error can be reduced by increasing the sample size.\n"
   ]
  },
  {
   "cell_type": "code",
   "execution_count": null,
   "id": "bc19580e",
   "metadata": {},
   "outputs": [],
   "source": []
  },
  {
   "cell_type": "markdown",
   "id": "0b601bce",
   "metadata": {},
   "source": [
    "## Test for Mean with known population variance\n",
    "\n",
    "In this example we will test the following hypothesis - The average salary of a data scientis is equal to $\\$$ 92,000.\n",
    "\n",
    "\\begin{equation}\n",
    "H_0 : \\mu_0 = \\$ 92,000 \\\\\n",
    "H_1: \\mu_1 \\neq \\$ 92,000\n",
    "\\end{equation}\n",
    "\n",
    "Our sample dataset contains the salary of data scientists. The population variance $\\mu$ will be equal to the value of our null hypothesis i.e $\\$$ 92,000. Since the population variance is known, we will consider the population standard deviation $\\sigma$ to be $\\$$ 15,000.\n",
    "\n",
    "Since the critical value can affect two sides of a distribution, this is a two-tailed test."
   ]
  },
  {
   "cell_type": "code",
   "execution_count": 136,
   "id": "d1032387",
   "metadata": {},
   "outputs": [
    {
     "name": "stdout",
     "output_type": "stream",
     "text": [
      "<class 'pandas.core.frame.DataFrame'>\n",
      "RangeIndex: 30 entries, 0 to 29\n",
      "Data columns (total 1 columns):\n",
      " #   Column  Non-Null Count  Dtype\n",
      "---  ------  --------------  -----\n",
      " 0   Salary  30 non-null     int64\n",
      "dtypes: int64(1)\n",
      "memory usage: 368.0 bytes\n"
     ]
    }
   ],
   "source": [
    "df = pd.read_excel('data_scientist_salary.xlsx')\n",
    "df.info()\n",
    "df.head()\n",
    "\n",
    "population_standard_deviation = 15_000\n",
    "population_mean_of_interest = 92_000"
   ]
  },
  {
   "cell_type": "code",
   "execution_count": 137,
   "id": "6d71624d",
   "metadata": {},
   "outputs": [
    {
     "data": {
      "image/png": "[encoded data removed]",
      "text/plain": [
       "<Figure size 640x480 with 1 Axes>"
      ]
     },
     "metadata": {},
     "output_type": "display_data"
    }
   ],
   "source": [
    "plt.figure()\n",
    "plt.hist(df['Salary'], density=True)\n",
    "plt.grid()\n",
    "plt.title(\"Probability Distribution of Salary\")\n",
    "plt.xlabel(\"Salary\")\n",
    "plt.ylabel(\"Density\")\n",
    "plt.show()"
   ]
  },
  {
   "cell_type": "markdown",
   "id": "542f91b3",
   "metadata": {},
   "source": [
    "### Task 1 - Standardize the distribution\n",
    "\n",
    "First we need to standardize the distribution by calculating the Z-score. The equation to calculate the Z-score is as follows:\n",
    "\n",
    "\\begin{equation}\n",
    "Z = \\frac{\\bar{x} - \\mu}{\\frac{\\sigma}{\\sqrt{n}}}\n",
    "\\end{equation}\n",
    "\n",
    "Here,\n",
    "- '$\\bar{x}$' is the sample mean\n",
    "- '$\\mu$' is the mean of interest from the null hypothesis\n",
    "- '$\\sigma$' is the population standard deviation\n",
    "- 'n' is the sample size\n",
    "\n",
    "In this way we obtain a distribution with mean $x - \\mu$ and standard deviation '1'. Therefore, we can then compare the data with the Z-table. As the data of Z-table is for a standard normal distribution with mean 0 and standard deviation 1, the closer our value $x-\\mu$ is to zero, the more accurate is the null hypothesis."
   ]
  },
  {
   "cell_type": "code",
   "execution_count": 138,
   "id": "a51c216e",
   "metadata": {},
   "outputs": [
    {
     "name": "stdout",
     "output_type": "stream",
     "text": [
      "Standard error is 2738.6127875258308\n",
      "The Z-score is 2.9943505354311877\n"
     ]
    }
   ],
   "source": [
    "standard_error = population_standard_deviation/np.sqrt(len(df))\n",
    "print(f\"Standard error is {standard_error}\")\n",
    "\n",
    "z_score = (np.mean(df['Salary']) - population_mean_of_interest)/standard_error\n",
    "\n",
    "print(f\"The Z-score is {z_score}\")"
   ]
  },
  {
   "cell_type": "markdown",
   "id": "4d247fbf",
   "metadata": {},
   "source": [
    "### Task 2 - Compare the Z-score with critical value\n",
    "\n",
    "Now we will calculate the critical value 'z' from the Z-statistics table using a significance level of 0.05. If the z-score is less than -z or greater than +z, then we will reject the null hypothesis. Otherwise, we will accept the null hypothesis. Since, this is a two-tailed test, the data from z-table will be calculated using $1-\\frac{\\alpha}{2}$.\n",
    "\n",
    "**Note**\n",
    "\n",
    "We use the absolute value $|Z|$ of the z-score instead of the actual value since some z-statistics tables do not contain data for negative values and it is easier to compare the positive values. So, if we use the absolute value to calculate the critical value, we can just check whether the z-score is greater than critical value and omit the test for negative range. That is because $-Z < -z$ is the same as $Z > z$"
   ]
  },
  {
   "cell_type": "code",
   "execution_count": 141,
   "id": "f6e5fb00",
   "metadata": {},
   "outputs": [
    {
     "name": "stdout",
     "output_type": "stream",
     "text": [
      "The critical value is 1.959963984540054\n",
      "The z-score is outside the range of critical value. So, with a significance level of 5.0%, we reject the null hypothesis\n"
     ]
    }
   ],
   "source": [
    "alpha = 0.05\n",
    "critical_value = stats.norm.ppf(1 - (alpha/2))\n",
    "print(f\"The critical value is {critical_value}\")\n",
    "\n",
    "accepted = np.abs(z_score) <= np.abs(critical_value)\n",
    "result = \"accept\" if accepted else \"reject\"\n",
    "result_range = \"within\" if accepted else \"outside\"\n",
    "print(f\"The z-score is {result_range} the range of critical value. So, with a significance level of {alpha*100}%, we {result} the null hypothesis\")"
   ]
  },
  {
   "cell_type": "markdown",
   "id": "d9204802",
   "metadata": {},
   "source": [
    "As we reduce the value of significance level i.e. increase the confidence interval, the acceptance range of the distribution becomes wider as the critical value decreases. So, the possibility of accepting the null hypothesis also increases. As for example, we increase the confidence level to 99.9\\%, the significance level becomes $1-0.999=0.001$. In that case,"
   ]
  },
  {
   "cell_type": "code",
   "execution_count": 146,
   "id": "cc12317f",
   "metadata": {},
   "outputs": [
    {
     "name": "stdout",
     "output_type": "stream",
     "text": [
      "The critical value is 3.2905267314919255\n",
      "The z-score is within the range of critical value. So, with a significance level of 0.1%, we accept the null hypothesis\n"
     ]
    }
   ],
   "source": [
    "alpha = 0.001\n",
    "critical_value = stats.norm.ppf(1 - (alpha/2))\n",
    "print(f\"The critical value is {critical_value}\")\n",
    "\n",
    "accepted = np.abs(z_score) <= np.abs(critical_value)\n",
    "result = \"accept\" if accepted else \"reject\"\n",
    "result_range = \"within\" if accepted else \"outside\"\n",
    "print(f\"The z-score is {result_range} the range of critical value. So, with a significance level of {alpha*100}%, we {result} the null hypothesis\")"
   ]
  },
  {
   "cell_type": "markdown",
   "id": "d8de4a29",
   "metadata": {},
   "source": [
    "Therefore, if we keep decreasing the signifcance level, there **may** come a point when we can no longer reject the null hypothesis. There is a method to calculate the **significance level below which we can no longer reject the null hypothesis.** We find this by calculating the **P-Value**."
   ]
  },
  {
   "cell_type": "code",
   "execution_count": null,
   "id": "347a6915",
   "metadata": {},
   "outputs": [],
   "source": []
  },
  {
   "cell_type": "markdown",
   "id": "81d6bbde",
   "metadata": {},
   "source": [
    "## P-Value\n",
    "\n",
    "This is the minimum value of a significance level of a test **after** which we can no longer reject the null hypothesis. P-value is the last significance level at which we can reject a null hypothesis. Therefore, the higher the P-Value of a test, it is more likely that the null hypothesis is correct.\n",
    "\n",
    "When testing, we calculate the p-value of a distribution. We then choose a signifance level $\\alpha$. If the p-value is lower than $\\alpha$, we can reject the null hypothesis at that significance level because if the value of alpha is lower than p-value only then we can no longer reject the null hypothesis. \n",
    "\n",
    "### Calculating the P-value\n",
    "\n",
    "1. In the above example, our hypothesis was - the average salary of a data scientist is $\\$$ 92,000 and we rejected the hypothesis at a significance level of 5\\%. To calculate the p-value, we first find the z-score of the distribution. In our case the z-score is $2.99$.\n",
    "\n",
    "2. Next we lookup the Z-statistics table and find the cell $c$ whose sum of the row and column header equals to 2.99. If we cannot find such cell, we choose the cell that has the sum nearest to 2.99.\n",
    "\n",
    "3. If the test is two-sided, then $(1-c)*2$ provides us the p-value. If the test is one-sided, then $1-c$ provides us the p-value. \n",
    "\n",
    "\n",
    "For our example, the cell whose sum of row and column header is equal to $2.99$ is $0.9986$. So, the p-value for our example is $(1-0.9986)*2 = 0.0027$. Therefore, **for significance level below 0.2\\%, we can no longer reject our null hypothesis.**\n",
    "\n",
    "**Since the main objective of a test is to reject the null hypothesis, the closer p-value is to zero, the better is the outcome of the test. Usually, p-value with three zeros after the decimal point is considered better since there is a higher chance of rejecting the null hypothesis.**\n",
    "\n",
    "**P-Value is a measure that works for all type of distributions.**"
   ]
  },
  {
   "cell_type": "code",
   "execution_count": null,
   "id": "ab2ae9b4",
   "metadata": {},
   "outputs": [],
   "source": []
  },
  {
   "cell_type": "markdown",
   "id": "f40a445c",
   "metadata": {},
   "source": [
    "## Test for Mean with unknown population variance\n",
    "\n",
    "Let us consider the hypothesis - More than 40\\% of customers of a company opens marketing emails from the company. We are trying to prove that this hypothesis is correct. Since we are trying to prove this point, the opposite statement will become the null hypothesis. In this case the hypothesis becomes:\n",
    "\n",
    "\\begin{equation}\n",
    "H_0 : \\mu_0 \\leq 40\\% \\\\\n",
    "H_1: \\mu_1 > 40\\%\n",
    "\\end{equation}\n",
    "\n",
    "Since the rejection region can be only on one side of the distribution, this is considered a one-tailed test. We will reject the null hypothesis if the significance level is at least 5\\% i.e. $\\alpha=0.05$. We assume that the population open rate of emails is normally distributed."
   ]
  },
  {
   "cell_type": "code",
   "execution_count": 159,
   "id": "44df627b",
   "metadata": {},
   "outputs": [
    {
     "name": "stdout",
     "output_type": "stream",
     "text": [
      "<class 'pandas.core.frame.DataFrame'>\n",
      "RangeIndex: 10 entries, 0 to 9\n",
      "Data columns (total 1 columns):\n",
      " #   Column     Non-Null Count  Dtype\n",
      "---  ------     --------------  -----\n",
      " 0   Open rate  10 non-null     int64\n",
      "dtypes: int64(1)\n",
      "memory usage: 208.0 bytes\n"
     ]
    },
    {
     "data": {
      "text/html": [
       "<div>\n",
       "<style scoped>\n",
       "    .dataframe tbody tr th:only-of-type {\n",
       "        vertical-align: middle;\n",
       "    }\n",
       "\n",
       "    .dataframe tbody tr th {\n",
       "        vertical-align: top;\n",
       "    }\n",
       "\n",
       "    .dataframe thead th {\n",
       "        text-align: right;\n",
       "    }\n",
       "</style>\n",
       "<table border=\"1\" class=\"dataframe\">\n",
       "  <thead>\n",
       "    <tr style=\"text-align: right;\">\n",
       "      <th></th>\n",
       "      <th>Open rate</th>\n",
       "    </tr>\n",
       "  </thead>\n",
       "  <tbody>\n",
       "    <tr>\n",
       "      <th>0</th>\n",
       "      <td>26</td>\n",
       "    </tr>\n",
       "    <tr>\n",
       "      <th>1</th>\n",
       "      <td>23</td>\n",
       "    </tr>\n",
       "    <tr>\n",
       "      <th>2</th>\n",
       "      <td>42</td>\n",
       "    </tr>\n",
       "    <tr>\n",
       "      <th>3</th>\n",
       "      <td>49</td>\n",
       "    </tr>\n",
       "    <tr>\n",
       "      <th>4</th>\n",
       "      <td>23</td>\n",
       "    </tr>\n",
       "    <tr>\n",
       "      <th>5</th>\n",
       "      <td>59</td>\n",
       "    </tr>\n",
       "    <tr>\n",
       "      <th>6</th>\n",
       "      <td>29</td>\n",
       "    </tr>\n",
       "    <tr>\n",
       "      <th>7</th>\n",
       "      <td>29</td>\n",
       "    </tr>\n",
       "    <tr>\n",
       "      <th>8</th>\n",
       "      <td>57</td>\n",
       "    </tr>\n",
       "    <tr>\n",
       "      <th>9</th>\n",
       "      <td>40</td>\n",
       "    </tr>\n",
       "  </tbody>\n",
       "</table>\n",
       "</div>"
      ],
      "text/plain": [
       "   Open rate\n",
       "0         26\n",
       "1         23\n",
       "2         42\n",
       "3         49\n",
       "4         23\n",
       "5         59\n",
       "6         29\n",
       "7         29\n",
       "8         57\n",
       "9         40"
      ]
     },
     "execution_count": 159,
     "metadata": {},
     "output_type": "execute_result"
    }
   ],
   "source": [
    "population_mean_of_interest = 40\n",
    "\n",
    "df = pd.read_excel('email_open_rate.xlsx')\n",
    "df.info()\n",
    "df.head(20)"
   ]
  },
  {
   "cell_type": "code",
   "execution_count": 153,
   "id": "c3a31026",
   "metadata": {},
   "outputs": [
    {
     "name": "stdout",
     "output_type": "stream",
     "text": [
      "The sample mean is 37.70 and the sample standard_deviation is 13.03\n"
     ]
    }
   ],
   "source": [
    "sample_mean = np.mean(df['Open rate'])\n",
    "standard_deviation = np.std(df['Open rate'])\n",
    "\n",
    "print(f\"The sample mean is {sample_mean:.2f} and the sample standard_deviation is {standard_deviation:.2f}\")"
   ]
  },
  {
   "cell_type": "markdown",
   "id": "e204f2f3",
   "metadata": {},
   "source": [
    "### Task 1 - Standardize the distribution\n",
    "\n",
    "**Since we have a small sample and an unknown variance, we will use the T-statistics to test our hypothesis.** \n",
    "\n",
    "The equation to calculate the T-score is as follows:\n",
    "\n",
    "\\begin{equation}\n",
    "T = \\frac{\\bar{x} - \\mu}{\\frac{s}{\\sqrt{n}}}\n",
    "\\end{equation}\n",
    "\n",
    "Here,\n",
    "- '$\\bar{x}$' is the sample mean\n",
    "- '$\\mu$' is the mean of interest from the null hypothesis\n",
    "- '$s$' is the sample standard deviation\n",
    "- 'n' is the sample size\n",
    "\n"
   ]
  },
  {
   "cell_type": "code",
   "execution_count": 162,
   "id": "447690ac",
   "metadata": {},
   "outputs": [
    {
     "name": "stdout",
     "output_type": "stream",
     "text": [
      "The standard error is 4.120800893030382\n",
      "The T-score is -0.56\n"
     ]
    }
   ],
   "source": [
    "standard_error = standard_deviation/np.sqrt(len(df))\n",
    "print(f\"The standard error is {standard_error}\")\n",
    "t_score = (sample_mean - population_mean_of_interest)/standard_error\n",
    "print(f\"The T-score is {t_score:.2f}\")"
   ]
  },
  {
   "cell_type": "markdown",
   "id": "a4649c74",
   "metadata": {},
   "source": [
    "Since it is easier to compare using absolute value, we will use the absolute value of the T-Score and critical value for comparison.\n",
    "\n",
    "### Task 2 - Compare the T-score with critical value\n",
    "\n",
    "Now we will calculate the critical value 't' from the T-statistics table using a significance level of 0.05 and $n-1$ degrees of freedom i.e. $10-1=9$ degrees of freedom. If the t-score is less than -t or greater than +t, then we will reject the null hypothesis. Otherwise, we will accept the null hypothesis. Since, this is a one-tailed test, the data from t-table will be calculated using $1-\\alpha$.\n",
    "\n",
    "**Note**\n",
    "\n",
    "We use the absolute value $|T|$ of the t-score instead of the actual value since some t-statistics tables do not contain data for negative values and it is easier to compare the positive values. So, if we use the absolute value to calculate the critical value, we can just check whether the t-score is greater than critical value and omit the test for negative range. That is because $-T < -t$ is the same as $T > t$"
   ]
  },
  {
   "cell_type": "code",
   "execution_count": 164,
   "id": "ef74341f",
   "metadata": {},
   "outputs": [
    {
     "name": "stdout",
     "output_type": "stream",
     "text": [
      "The critical value is 1.83\n",
      "The t-score is within the range of critical value. So, with a significance level of 5.0%, we accept the null hypothesis\n"
     ]
    }
   ],
   "source": [
    "alpha = 0.05\n",
    "degree_of_freedom = len(df) - 1\n",
    "critical_value = stats.t.ppf(1-alpha, degree_of_freedom)\n",
    "print(f\"The critical value is {critical_value:.2f}\")\n",
    "\n",
    "accepted = np.abs(t_score) <= np.abs(critical_value)\n",
    "result = \"accept\" if accepted else \"reject\"\n",
    "result_range = \"within\" if accepted else \"outside\"\n",
    "print(f\"The t-score is {result_range} the range of critical value. So, with a significance level of {alpha*100}%, we {result} the null hypothesis\")"
   ]
  },
  {
   "cell_type": "markdown",
   "id": "cdb0f641",
   "metadata": {},
   "source": [
    "Since the T-score is 0.56 is less than the critical value 1.83, we accept the null hypothesis at a significance level of 5\\%.\n",
    "\n",
    "### Task 3 - Calculate P-Value\n",
    "\n",
    "The T-score is 0.56. So, we find the cell in where the index of the row is equal to the degree of freedom and the cell which has the value nearest to the T-score. For our case it is 0.700. So, the P-Value is $1-0.7=0.3$. Since the p-value is greater than the significance level $0.05$, we can accept the null hypothesis. \n",
    "\n",
    "Therefore, at a significance level of 5\\%, the email open rate of the customers is less than or equal to 40\\%."
   ]
  },
  {
   "cell_type": "code",
   "execution_count": 171,
   "id": "57efbaf6",
   "metadata": {},
   "outputs": [
    {
     "data": {
      "text/plain": [
       "0.696"
      ]
     },
     "execution_count": 171,
     "metadata": {},
     "output_type": "execute_result"
    }
   ],
   "source": [
    "1-0.304"
   ]
  }
 ],
 "metadata": {
  "kernelspec": {
   "display_name": "Python 3 (ipykernel)",
   "language": "python",
   "name": "python3"
  },
  "language_info": {
   "codemirror_mode": {
    "name": "ipython",
    "version": 3
   },
   "file_extension": ".py",
   "mimetype": "text/x-python",
   "name": "python",
   "nbconvert_exporter": "python",
   "pygments_lexer": "ipython3",
   "version": "3.10.9"
  }
 },
 "nbformat": 4,
 "nbformat_minor": 5
}
